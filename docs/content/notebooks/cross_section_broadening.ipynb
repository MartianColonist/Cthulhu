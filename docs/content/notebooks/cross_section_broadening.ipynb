{
 "cells": [
  {
   "cell_type": "markdown",
   "id": "905bcb0b",
   "metadata": {},
   "source": [
    "## Computing Cross Sections with Different Broadening Parameters\n",
    "In this tutorial, we create a cross section for a molecule using different broadening coefficients. We choose the CO Li2015 line list from ExoMol. We compute the cross section using ExoMol's given H2-He broadening files and also using 2 custom broadening methods. One of these custom broadening methods has a constant relationship between the pressure broadening Lorentz coefficient and the angular quantum number (i.e. $ \\gamma_{L}(J) =$ constant) and the other has a linearly decreasing relationship. \n",
    "\n",
    "We strongly recommend reading the [Quick Start](https://excalibur-alpha.readthedocs.io/en/latest/content/notebooks/quick_start.html) guide if you have not done so yet."
   ]
  },
  {
   "cell_type": "markdown",
   "id": "d92010d0",
   "metadata": {},
   "source": [
    "### Downloading line list and H2-He broadening files from ExoMol\n",
    "Let's download the line list as we typically do. This will automatically download the H2-He broadening files from ExoMol as well. We import the relevant functions, define parameters, and call the functions."
   ]
  },
  {
   "cell_type": "code",
   "execution_count": 7,
   "id": "05ce8b91",
   "metadata": {},
   "outputs": [
    {
     "name": "stdout",
     "output_type": "stream",
     "text": [
      "\n",
      " ***** Downloading requested data from ExoMol. You have chosen the following parameters: ***** \n",
      "\n",
      "Molecule: CO \n",
      "Isotopologue: 12C-16O \n",
      "Line List: Li2015\n",
      "\n",
      "Starting by downloading the .broad, .pf, and .states files...\n",
      "This file is already downloaded. Moving on.\n",
      "Fetched the broadening coefficients, partition functions, and energy levels.\n",
      "Now downloading the Li2015 line list...\n",
      "\n",
      "Downloading .trans file 1 of 2\n",
      "This file is already downloaded. Moving on.\n",
      "\n",
      "Downloading .trans file 2 of 2\n",
      "This file is already downloaded. Moving on.\n",
      "\n",
      "Line list ready.\n",
      "\n"
     ]
    }
   ],
   "source": [
    "''' Import module and define parameters'''\n",
    "\n",
    "from excalibur.core import summon\n",
    "\n",
    "species = 'CO'\n",
    "database = 'ExoMol'\n",
    "\n",
    "summon(database = database, species = species)  # Download CO line list"
   ]
  },
  {
   "cell_type": "markdown",
   "id": "b711dfb0",
   "metadata": {},
   "source": [
    "### Adding custom broadening files\n",
    "Now, let's create our custom broadening file and add them to the directory. To do this, we create numpy arrays and write them to a file. For both the constant and linearly decreasing relationships, the values for $J$, $\\gamma_{L}(J)$, and $n_{L}$ are selected as per ExoMol's recommendations [CITE]. Technically, there is already an option for 'fixed' broadening in Excalibur, so we don't need to create a separate broadening file for that. However, for the purposes of this tutorial, we will demonstrate it."
   ]
  },
  {
   "cell_type": "code",
   "execution_count": 8,
   "id": "c28e674d",
   "metadata": {},
   "outputs": [],
   "source": [
    "'''Creating custom fixed broadening file to use in cross section computations'''\n",
    "\n",
    "import numpy as np\n",
    "\n",
    "# Populate arrays\n",
    "\n",
    "J = np.linspace(0, 80, num = 81) # Rotational quantum numbers from J = 0 to J = 80\n",
    "gamma_L_0 = 0.07 * np.ones(81) # Lorentzian HWHM is 0.07 for all J\n",
    "n_L = 0.5 * np.ones(81) # Temperature exponent is 0.5 for all J\n"
   ]
  },
  {
   "cell_type": "markdown",
   "id": "2ee5e0be",
   "metadata": {},
   "source": [
    "Now that we have defined the necessary variables, we call the `write_broadening_file` function to write these arrays to a file and place it in the correct folder. This function requires at least 5 parameters, the name of the file (`broadening_file`), the data to be written (`data`), the 'input' directory (`input_dir`), the name of the molecule (`species`), and the database (`database`).\n",
    "\n",
    "The 3 arrays we just created should be combined into 1 array prior to calling the `write_broadening_file` function. This can be done using `np.stack`, as shown below. Make sure to keep the same order of the arrays as well (`J` then `gamma_L_0` then `n_L`).\n",
    "\n",
    "The variable `input_dir` should be set to './input/' unless you have edited the file structure Excalibur automatically creates."
   ]
  },
  {
   "cell_type": "code",
   "execution_count": 9,
   "id": "00e94710",
   "metadata": {},
   "outputs": [],
   "source": [
    "'''Write broadening parameters to file'''\n",
    "\n",
    "from excalibur.broadening import write_broadening_file\n",
    "\n",
    "data = np.stack((J, gamma_L_0, n_L))  # Combine arrays into 1 array to pass into write_broadening_file function\n",
    "broadening_file = 'constant.broad' # Name of the file we will save data to\n",
    "input_dir = './input/' # Top level input directory that contains line list data for all species\n",
    "\n",
    "write_broadening_file(broadening_file, data, input_dir, species, database) # Create broadening file"
   ]
  },
  {
   "cell_type": "markdown",
   "id": "6e6cf498",
   "metadata": {},
   "source": [
    "Great, we have added our first custom broadening file! Let's do the same for the broadening file where $\\gamma_{L}(J)$ decreases linearly for increasing $J$. The steps are the same, except `gamma_L_0` will be different. For simplicity, we just redefine this variable, as well as the name of the broadening file, and keep everything else the same. "
   ]
  },
  {
   "cell_type": "code",
   "execution_count": 10,
   "id": "9c8b969f",
   "metadata": {},
   "outputs": [],
   "source": [
    "''' Redefine gamma_L_0 and write new custom broadening file to directory'''\n",
    "\n",
    "gamma_L_0_beginning = np.linspace(start = 0.07, stop = 0.06, num = 21) # 20 evenly spaced numbers from 0.07 to 0.06\n",
    "gamma_L_0_end = 0.06 * np.ones(60) # Lorentzian HWHM is 0.06 for all J after J = 20\n",
    "gamma_L_0 = np.concatenate((gamma_L_0_beginning, gamma_L_0_end), axis = None) # Combine both arrays for full Lorenztian HWHM\n",
    "data = np.stack((J, gamma_L_0, n_L)) # Combine arrays into 1 array to pass into write_broadening_file function\n",
    "broadening_file = 'linear.broad' # Name of the file we will save data to\n",
    "\n",
    "write_broadening_file(broadening_file, data, input_dir, species, database) # Create broadening file\n",
    "\n"
   ]
  },
  {
   "cell_type": "markdown",
   "id": "6d3b1c47",
   "metadata": {},
   "source": [
    "### Computing and Plotting Cross Section\n",
    "Now we are ready to compute the cross section. We do this in the usual way. The only parameter that changes is `broad_type` and `broadening_file`. If we set `broad_type` to 'fixed' a constant relationship between $J$ and $\\gamma_{L}(J)$ is assumed. If we set `broad_type` to 'custom', the custom.broad file we added is used. If we assign no value to `broad_type` (or assign it to 'default'), Excalibur defaults to using the broadening parameters already downloaded with the line list. In the case for CO, the default is H2-He broadening (as is often the case with ExoMol line lists). \n",
    "\n",
    "Since we created 2 custom broadening files, we set `broad_type` to 'custom' in both calls to `compute_cross_section`. We also need to pass in the name of the broadening file in both instances, which you will recall were 'constant.broad' and 'linear.broad'. As an aside, you can also set `broad_type` = 'fixed' for the constant $\\gamma_{L}(J)$ file we created."
   ]
  },
  {
   "cell_type": "code",
   "execution_count": 11,
   "id": "75f628ce",
   "metadata": {},
   "outputs": [
    {
     "name": "stdout",
     "output_type": "stream",
     "text": [
      "Beginning cross-section computations...\n",
      "Loading ExoMol format\n",
      "Loading partition function\n",
      "Pre-computing Voigt profiles...\n",
      "Voigt profiles computed in 5.32532420900003 s\n",
      "Pre-computation steps complete\n",
      "Generating cross section for CO at P = 1 bar, T = 1000 K\n",
      "Computing transitions from Li2015.h5 | 0.0% complete\n",
      "Completed 125496 transitions in 4.152991625000027 s\n",
      "Computing transitions from E2.h5 | 50.0% complete\n",
      "Completed 6474 transitions in 0.3358307500000137 s\n",
      "Calculation complete!\n",
      "Completed 131970 transitions in 4.571795124999994 s\n",
      "\n",
      "Total runtime: 14.296074750000002 s\n",
      "Beginning cross-section computations...\n",
      "Loading ExoMol format\n",
      "Loading partition function\n",
      "Pre-computing Voigt profiles...\n",
      "Voigt profiles computed in 5.219386832999987 s\n",
      "Pre-computation steps complete\n",
      "Generating cross section for CO at P = 1 bar, T = 1000 K\n",
      "Computing transitions from Li2015.h5 | 0.0% complete\n",
      "Completed 125496 transitions in 3.552497874999972 s\n",
      "Computing transitions from E2.h5 | 50.0% complete\n",
      "Completed 6474 transitions in 0.12022462500004849 s\n",
      "Calculation complete!\n",
      "Completed 131970 transitions in 3.686797666000018 s\n",
      "\n",
      "Total runtime: 13.264918333000026 s\n",
      "Beginning cross-section computations...\n",
      "Loading ExoMol format\n",
      "Loading partition function\n",
      "Pre-computing Voigt profiles...\n",
      "Voigt profiles computed in 5.169389499999966 s\n",
      "Pre-computation steps complete\n",
      "Generating cross section for CO at P = 1 bar, T = 1000 K\n",
      "Computing transitions from Li2015.h5 | 0.0% complete\n",
      "Completed 125496 transitions in 3.7436900409999794 s\n",
      "Computing transitions from E2.h5 | 50.0% complete\n",
      "Completed 6474 transitions in 0.20888916699999527 s\n",
      "Calculation complete!\n",
      "Completed 131970 transitions in 3.972768292000012 s\n",
      "\n",
      "Total runtime: 13.514129000000025 s\n"
     ]
    }
   ],
   "source": [
    "from excalibur.core import compute_cross_section\n",
    "\n",
    "P = 1  # Pressure in bars\n",
    "T = 1000  # Temperature in Kelvin\n",
    "input_directory = './input/' # Top level directory containing line lists\n",
    "\n",
    "compute_cross_section(species = species, database = database, temperature = T, input_dir = input_directory, \n",
    "                      pressure = P, broad_type = 'default')\n",
    "compute_cross_section(species = species, database = database, temperature = T, input_dir = input_directory, \n",
    "                      pressure = P, broad_type = 'custom', broadening_file = 'constant.broad')\n",
    "compute_cross_section(species = species, database = database, temperature = T, input_dir = input_directory, \n",
    "                      pressure = P, broad_type = 'custom', broadening_file = 'linear.broad')"
   ]
  },
  {
   "cell_type": "markdown",
   "id": "1c692912",
   "metadata": {},
   "source": [
    "Now we are able to plot the cross section. We need to first read the cross section files and add the cross sections to a collection. "
   ]
  },
  {
   "cell_type": "code",
   "execution_count": 12,
   "id": "e01e0153",
   "metadata": {},
   "outputs": [],
   "source": [
    "from excalibur.plot import read_cross_section_file, cross_section_collection\n",
    "\n",
    "'''Read in the cross section we just computed'''\n",
    "\n",
    "nu, sigma = read_cross_section_file(species = species, database = database,\n",
    "                                    filename = 'CO_T1000K_log_P0.0_H2-He_sigma.txt')\n",
    "nu2, sigma2 = read_cross_section_file(species = species, database = database,\n",
    "                                      filename = 'CO_T1000K_log_P0.0_custom_constant_sigma.txt')\n",
    "nu3, sigma3 = read_cross_section_file(species = species, database = database, \n",
    "                                      filename = 'CO_T1000K_log_P0.0_custom_linear_sigma.txt')\n",
    "\n",
    "'''Add both cross sections to collection in preparation for plotting'''\n",
    "\n",
    "cross_sections = []\n",
    "\n",
    "cross_sections = cross_section_collection(new_x = nu, new_y = sigma, collection = cross_sections)  # Add first cross section to collection\n",
    "\n",
    "cross_sections = cross_section_collection(new_x = nu2, new_y = sigma2, collection = cross_sections) # Add second cross section to collection, making sure to specify the previous collection as a parameter\n",
    "\n",
    "cross_sections = cross_section_collection(new_x = nu3, new_y = sigma3, collection = cross_sections) # Add third cross section to collection\n"
   ]
  },
  {
   "cell_type": "markdown",
   "id": "5fbd4137",
   "metadata": {},
   "source": [
    "And finally we plot the results."
   ]
  },
  {
   "cell_type": "code",
   "execution_count": 13,
   "id": "b2d6eb8d",
   "metadata": {},
   "outputs": [
    {
     "name": "stdout",
     "output_type": "stream",
     "text": [
      "\n",
      "Plotting complete.\n"
     ]
    },
    {
     "data": {
      "image/png": "[encoded data removed]",
      "text/plain": [
       "<Figure size 432x288 with 1 Axes>"
      ]
     },
     "metadata": {
      "needs_background": "light"
     },
     "output_type": "display_data"
    }
   ],
   "source": [
    "from excalibur.plot import plot_cross_section\n",
    "\n",
    "'''Plot all 3 cross sections on the same plot'''\n",
    "\n",
    "plot_cross_section(collection = cross_sections, labels = ['H2-He', 'constant', 'linear'], filename = 'Different_Broadening_Types_for_CO')\n"
   ]
  },
  {
   "cell_type": "markdown",
   "id": "6a8d06a2",
   "metadata": {},
   "source": [
    "We can zoom into the region between 4.26$\\mu m$ and 4.29$\\mu m$ to show the differences more clearly. We specify the `x_min` and `x_max` parameters accordingly."
   ]
  },
  {
   "cell_type": "code",
   "execution_count": 24,
   "id": "150fc198",
   "metadata": {},
   "outputs": [
    {
     "name": "stdout",
     "output_type": "stream",
     "text": [
      "\n",
      "Plotting complete.\n"
     ]
    },
    {
     "data": {
      "image/png": "[encoded data removed]",
      "text/plain": [
       "<Figure size 432x288 with 1 Axes>"
      ]
     },
     "metadata": {
      "needs_background": "light"
     },
     "output_type": "display_data"
    }
   ],
   "source": [
    "plot_cross_section(collection = cross_sections, labels = ['H2-He', 'constant', 'linear'], \n",
    "                   filename = 'Different_Broadening_Types_for_CO_Zoomed', x_min = 4.26, x_max = 4.29)\n"
   ]
  },
  {
   "cell_type": "code",
   "execution_count": null,
   "id": "3e34fe82",
   "metadata": {},
   "outputs": [],
   "source": []
  }
 ],
 "metadata": {
  "kernelspec": {
   "display_name": "Python 3 (ipykernel)",
   "language": "python",
   "name": "python3"
  },
  "language_info": {
   "codemirror_mode": {
    "name": "ipython",
    "version": 3
   },
   "file_extension": ".py",
   "mimetype": "text/x-python",
   "name": "python",
   "nbconvert_exporter": "python",
   "pygments_lexer": "ipython3",
   "version": "3.7.6"
  }
 },
 "nbformat": 4,
 "nbformat_minor": 5
}
