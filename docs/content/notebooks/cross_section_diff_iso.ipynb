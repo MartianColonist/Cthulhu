{
 "cells": [
  {
   "cell_type": "markdown",
   "id": "dd6b0843",
   "metadata": {},
   "source": [
    "## Comparing Cross Sections of Different Isotopologues\n",
    "\n",
    "In this tutorial we create cross sections for two isotopologues of the same molecule and overplot them to see the differences. We strongly recommend reading the Quick Start [Link] guide if you have not done so yet."
   ]
  },
  {
   "cell_type": "markdown",
   "id": "f9f8b50b",
   "metadata": {},
   "source": [
    "First, we must decide on the molecule. We choose to use two isotopologues of CO for this example, $^{12}$C$^{16}$O and $^{13}$C$^{16}$O. Let's begin by downloading both line lists from ExoMol. We start by importing the relevant modules and defining some parameters. "
   ]
  },
  {
   "cell_type": "code",
   "execution_count": 1,
   "id": "050a6f80",
   "metadata": {},
   "outputs": [],
   "source": [
    "''' Import module and define parameters'''\n",
    "\n",
    "from excalibur.core import summon\n",
    "\n",
    "species = 'CO'\n",
    "database = 'ExoMol'"
   ]
  },
  {
   "cell_type": "markdown",
   "id": "88945a3a",
   "metadata": {},
   "source": [
    "Technically, for $^{12}$C$^{16}$O, we just need to specify the molecule and database for the `species` and `database` parameters. EXCALIBUR will then automatically assume the main isotopologue and most complete line list to download. So we could write the line below (without the 'leading #' of course). "
   ]
  },
  {
   "cell_type": "code",
   "execution_count": 2,
   "id": "53a825b8",
   "metadata": {},
   "outputs": [],
   "source": [
    "#summon(database=database, species = species)  # Could write this, but less clear as to what default parameters are used"
   ]
  },
  {
   "cell_type": "markdown",
   "id": "bb1138a8",
   "metadata": {},
   "source": [
    "However, to make this tutorial clearer, we call the `summon` function with the `isotope` and `linelist` parameters defined. The convention to specify the `isotope` parameter is most easily explained by some examples: CO becomes 12C-16O, $^{13}$C$^{16}$O becomes 13C-16O, CH4 becomes 12C-1H4. The `linelist` name can be found on the ExoMol website by clicking on the desired molecule. Defining each parameter is also necessary for non-main isotopologues, so this way we will be able to keep the notation consistent through the tutorial."
   ]
  },
  {
   "cell_type": "code",
   "execution_count": 3,
   "id": "9288e675",
   "metadata": {},
   "outputs": [
    {
     "name": "stdout",
     "output_type": "stream",
     "text": [
      "\n",
      " ***** Downloading requested data from ExoMol. You have chosen the following parameters: ***** \n",
      "\n",
      "Molecule: CO \n",
      "Isotopologue: 12C-16O \n",
      "Line List: Li2015\n",
      "\n",
      "Starting by downloading the .broad, .pf, and .states files...\n",
      "This file is already downloaded. Moving on.\n",
      "Fetched the broadening coefficients, partition functions, and energy levels.\n",
      "Now downloading the Li2015 line list...\n",
      "\n",
      "Downloading .trans file 1 of 2\n",
      "This file is already downloaded. Moving on.\n",
      "\n",
      "Downloading .trans file 2 of 2\n",
      "This file is already downloaded. Moving on.\n",
      "\n",
      "Line list ready.\n",
      "\n"
     ]
    }
   ],
   "source": [
    "summon(database = database, species = species, isotope = '12C-16O', linelist = 'Li2015')  # Download 12C-16O line list"
   ]
  },
  {
   "cell_type": "markdown",
   "id": "f26c7c20",
   "metadata": {},
   "source": [
    "We do the same for the second isotopologue, $^{13}$C$^{16}$O."
   ]
  },
  {
   "cell_type": "code",
   "execution_count": 4,
   "id": "b7d68134",
   "metadata": {},
   "outputs": [
    {
     "name": "stdout",
     "output_type": "stream",
     "text": [
      "\n",
      " ***** Downloading requested data from ExoMol. You have chosen the following parameters: ***** \n",
      "\n",
      "Molecule: CO \n",
      "Isotopologue: 13C-16O \n",
      "Line List: Li2015\n",
      "\n",
      "Starting by downloading the .broad, .pf, and .states files...\n",
      "This file is already downloaded. Moving on.\n",
      "Fetched the broadening coefficients, partition functions, and energy levels.\n",
      "Now downloading the Li2015 line list...\n",
      "\n",
      "Downloading .trans file 1 of 1\n",
      "This file is already downloaded. Moving on.\n",
      "\n",
      "Line list ready.\n",
      "\n"
     ]
    }
   ],
   "source": [
    "summon(database = database, species = species, isotope = '13C-16O', linelist = 'Li2015')  # Download 13C-16O line list"
   ]
  },
  {
   "cell_type": "markdown",
   "id": "f2dd049d",
   "metadata": {},
   "source": [
    "Now let's compute the cross section for both, at a pressure of 1 bar and temperature of 1000 Kelvin. We make sure to return the wavenumber and absorption cross section to use the data later for plotting."
   ]
  },
  {
   "cell_type": "code",
   "execution_count": 7,
   "id": "3c70914f",
   "metadata": {},
   "outputs": [
    {
     "name": "stdout",
     "output_type": "stream",
     "text": [
      "Beginning cross-section computations...\n",
      "Loading ExoMol format\n",
      "Loading partition function\n",
      "Pre-computing Voigt profiles...\n",
      "Voigt profiles computed in 5.122724249999997 s\n",
      "Pre-computation steps complete\n",
      "Generating cross section for CO at P = 1 bar, T = 1000 K\n",
      "Computing transitions from Li2015.h5 | 0.0% complete\n",
      "Completed 125496 transitions in 1.350985584 s\n",
      "Computing transitions from E2.h5 | 50.0% complete\n",
      "Completed 6474 transitions in 0.06350866700000068 s\n",
      "Calculation complete!\n",
      "Completed 131970 transitions in 1.418216375 s\n",
      "\n",
      "Total runtime: 10.125253125 s\n",
      "Beginning cross-section computations...\n",
      "Loading ExoMol format\n",
      "Loading partition function\n",
      "Pre-computing Voigt profiles...\n",
      "Voigt profiles computed in 5.092604332999997 s\n",
      "Pre-computation steps complete\n",
      "Generating cross section for CO at P = 1 bar, T = 1000 K\n",
      "Computing transitions from Li2015.h5 | 0.0% complete\n",
      "Completed 125496 transitions in 1.2482332500000055 s\n",
      "Calculation complete!\n",
      "Completed 125496 transitions in 1.2499498750000058 s\n",
      "\n",
      "Total runtime: 9.880213417 s\n"
     ]
    }
   ],
   "source": [
    "from excalibur.core import compute_cross_section\n",
    "\n",
    "'''Compute cross section for both isotopologues'''\n",
    "\n",
    "P = 1  # Pressure in bars\n",
    "T = 1000  # Temperature in Kelvin\n",
    "input_directory = './input/' # Top level directory containing line lists\n",
    "\n",
    "nu, sigma = compute_cross_section(species = species, database = database, isotope = '12C-16O', linelist = 'Li2015',\n",
    "                                  temperature = T, pressure = P, input_dir = input_directory)\n",
    "\n",
    "nu2, sigma2 = compute_cross_section(species = species, database = database, isotope = '13C-16O', linelist = 'Li2015',\n",
    "                                  temperature = T, pressure = P, input_dir = input_directory)"
   ]
  },
  {
   "cell_type": "markdown",
   "id": "2181539d",
   "metadata": {},
   "source": [
    "Finally, we are ready to plot. First, we create an empty array called `cross_sections` that will contain all of our cross sections. Then, we add the $^{12}$C$^{16}$O cross section to this empty collection of cross sections. This is done by calling the `cross_section_collection` function with the data of the new cross section (`nu` and `sigma`) along with the `cross sections` parameter. We call this statement a second time, this time with `nu2` and `sigma2`, to add the $^{13}$C$^{16}$O cross section to the collection as well. By passing in the `collection = cross_sections` parameter every time, we ensure that all of our cross sections are added to the same collection, to make the plotting easier in the next part."
   ]
  },
  {
   "cell_type": "code",
   "execution_count": 8,
   "id": "4311e9a1",
   "metadata": {},
   "outputs": [],
   "source": [
    "from excalibur.plot import cross_section_collection\n",
    "\n",
    "'''Add both cross sections to collection in preparation for plotting'''\n",
    "\n",
    "cross_sections = []\n",
    "\n",
    "cross_sections = cross_section_collection(new_x = nu, new_y = sigma, collection = cross_sections)  # Add first cross section to collection\n",
    "\n",
    "cross_sections = cross_section_collection(new_x = nu2, new_y = sigma2, collection = cross_sections) # Add second cross section to collection, making sure to specify the previous collection as a parameter"
   ]
  },
  {
   "cell_type": "markdown",
   "id": "4db3ea6d",
   "metadata": {},
   "source": [
    "The last statement plots the data with the 3 required parameters, the collection of cross sections, labels for each of the cross sections, and the resulting file name that the user desires. "
   ]
  },
  {
   "cell_type": "code",
   "execution_count": 10,
   "id": "4f41fbb0",
   "metadata": {},
   "outputs": [
    {
     "name": "stdout",
     "output_type": "stream",
     "text": [
      "25000.0\n",
      "200.0\n",
      "\n",
      "Plotting complete.\n"
     ]
    },
    {
     "data": {
      "image/png": "[encoded data removed]",
      "text/plain": [
       "<Figure size 432x288 with 1 Axes>"
      ]
     },
     "metadata": {
      "needs_background": "light"
     },
     "output_type": "display_data"
    }
   ],
   "source": [
    "from excalibur.plot import plot_cross_section\n",
    "\n",
    "'''Plot both cross sections on the same plot'''\n",
    "\n",
    "plot_cross_section(collection = cross_sections, labels = ['12C-16O', '13C-16O'], filename = 'Different_Isotopologues of CO')"
   ]
  },
  {
   "cell_type": "code",
   "execution_count": null,
   "id": "edf1ad5e",
   "metadata": {},
   "outputs": [],
   "source": []
  }
 ],
 "metadata": {
  "kernelspec": {
   "display_name": "Python 3 (ipykernel)",
   "language": "python",
   "name": "python3"
  },
  "language_info": {
   "codemirror_mode": {
    "name": "ipython",
    "version": 3
   },
   "file_extension": ".py",
   "mimetype": "text/x-python",
   "name": "python",
   "nbconvert_exporter": "python",
   "pygments_lexer": "ipython3",
   "version": "3.7.6"
  }
 },
 "nbformat": 4,
 "nbformat_minor": 5
}
