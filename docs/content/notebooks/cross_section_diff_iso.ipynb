{
 "cells": [
  {
   "cell_type": "markdown",
   "id": "dd6b0843",
   "metadata": {},
   "source": [
    "## Comparing Cross Sections of Different Isotopologues\n",
    "\n",
    "In this tutorial we create cross sections for two isotopologues of the same molecule and overplot them to see the differences. We strongly recommend reading the Quick Start [Link] guide if you have not done so yet."
   ]
  },
  {
   "cell_type": "markdown",
   "id": "f9f8b50b",
   "metadata": {},
   "source": [
    "First, we must create the cross sections. We choose to use two isotopologues of NO for this example, $^{14}$N$^{16}$O and $^{15}$N$^{16}$O. Let's begin by downloading both line lists from ExoMol. For $^{14}$N$^{16}$O, we just need to specify the molecule and database for the `species` and `database` parameters, and EXCALIBUR will automatically assume the main isotopologue and default line list (which is hard coded) to download. "
   ]
  },
  {
   "cell_type": "code",
   "execution_count": null,
   "id": "050a6f80",
   "metadata": {},
   "outputs": [],
   "source": [
    "'''Download main isotopologue of NO from ExoMol'''\n",
    "\n",
    "'''MAKE ISOTOPOLOGUES ARRAY\n",
    "CROSS SECTION DIFF ISOTOPOLOGUES NOT WORKING'''\n",
    "\n",
    "from excalibur.core import summon\n",
    "\n",
    "species = 'NO'\n",
    "database = 'ExoMol'\n",
    "\n",
    "summon(database=database, species = species)  # Download line list"
   ]
  },
  {
   "cell_type": "markdown",
   "id": "9b662a6b",
   "metadata": {},
   "source": [
    "To download the line list for $^{15}$N$^{16}$O, we must specify the `isotopologue` parameter. Excalibur assumes the  main isotopologue unless directed otherwise. The convention to specify the isotopologue parameter is most easily explained by some examples: NO becomes 14N-16O, $^{15}$N$^{16}$O becomes 15N-16O, CH4 becomes 12C-1H4. Again, this is only necessary for non-main isotopologues. We also must specify the line list we want to use, since Excalibur only has a default line list for certain molecules, and $^{15}$N$^{16}$O is not one of these. The name for the line list is found by going to the ExoMol website."
   ]
  },
  {
   "cell_type": "code",
   "execution_count": null,
   "id": "6e605714",
   "metadata": {},
   "outputs": [],
   "source": [
    "'''Download secondary isotopologue of NO from ExoMol'''\n",
    "\n",
    "isotopologue = '15N-16O' # Specify isotopologue using Excalibur/ExoMol convention\n",
    "linelist = 'NOname' # Line list name found on ExoMol website\n",
    "\n",
    "summon(database=database, species = species, isotope = isotopologue, linelist = linelist)"
   ]
  },
  {
   "cell_type": "markdown",
   "id": "f2dd049d",
   "metadata": {},
   "source": [
    "Now let's compute the cross section for both, at a pressure of 1 bar and temperature of 1000 Kelvin. We make sure to return the wavenumber and absorption cross section to use the data later for plotting."
   ]
  },
  {
   "cell_type": "code",
   "execution_count": null,
   "id": "3c70914f",
   "metadata": {},
   "outputs": [],
   "source": [
    "from excalibur.core import compute_cross_section\n",
    "\n",
    "'''Compute cross section for both isotopologues'''\n",
    "\n",
    "P = 1  # Pressure in bars\n",
    "T = 1000  # Temperature in Kelvin\n",
    "input_directory = './input/' # Top level directory containing line lists\n",
    "\n",
    "\n",
    "nu, sigma = compute_cross_section(species = species, database = database, temperature = T, input_dir = input_directory, \n",
    "                      pressure = P)"
   ]
  },
  {
   "cell_type": "code",
   "execution_count": 3,
   "id": "56bfed83",
   "metadata": {},
   "outputs": [
    {
     "name": "stdout",
     "output_type": "stream",
     "text": [
      "Beginning cross-section computations...\n",
      "Loading ExoMol format\n",
      "Loading partition function\n"
     ]
    },
    {
     "name": "stderr",
     "output_type": "stream",
     "text": [
      "OMP: Info #271: omp_set_nested routine deprecated, please use omp_set_max_active_levels instead.\n"
     ]
    },
    {
     "name": "stdout",
     "output_type": "stream",
     "text": [
      "Pre-computing Voigt profiles...\n",
      "Voigt profiles computed in 12.350637708000022 s\n",
      "Pre-computation steps complete\n",
      "Generating cross section for NO at P = 1 bar, T = 1000 K\n",
      "Computing transitions from XABC_v2.h5 | 0.0% complete\n",
      "Completed 3010226 transitions in 36.709905416000026 s\n",
      "Calculation complete!\n",
      "Completed 3010226 transitions in 36.828238874999954 s\n",
      "\n",
      "Total runtime: 53.35628995800005 s\n"
     ]
    }
   ],
   "source": [
    "from excalibur.core import compute_cross_section\n",
    "\n",
    "'''Compute cross section for both isotopologues'''\n",
    "\n",
    "\n",
    "species = 'NO'\n",
    "database = 'ExoMol'\n",
    "\n",
    "P = 1  # Pressure in bars\n",
    "T = 1000  # Temperature in Kelvin\n",
    "input_directory = './input/' # Top level directory containing line lists\n",
    "\n",
    "nu2, sigma2 = compute_cross_section(isotopologue = '15N-16O', species = species, database = database, temperature = T, input_dir = input_directory, \n",
    "                      pressure = P)"
   ]
  },
  {
   "cell_type": "markdown",
   "id": "2181539d",
   "metadata": {},
   "source": [
    "Finally, we add the returned arrays to a collection and plot. The first code statement adds the $^{14}$N$^{16}$O cross section (where nu is the x-axis and sigma is the y-axis) to an empty collection of cross sections. The parameter `collection = []` is assumed if the parameter is not assigned another value. In the second statement, we do the same thing, but assign `cross_section` to the `collection` parameter so that the $^{15}$N$^{16}$O cross section is added to an array that already contains the $^{14}$N$^{16}$O cross section. The last statement plots the data with the 3 required parameters, the collection of cross sections, labels for each of the cross sections, and the resulting file name. "
   ]
  },
  {
   "cell_type": "code",
   "execution_count": 6,
   "id": "4311e9a1",
   "metadata": {},
   "outputs": [
    {
     "name": "stdout",
     "output_type": "stream",
     "text": [
      "25000.0\n",
      "200.0\n",
      "\n",
      "Plotting complete.\n"
     ]
    },
    {
     "data": {
      "image/png": "[encoded data removed]",
      "text/plain": [
       "<Figure size 432x288 with 1 Axes>"
      ]
     },
     "metadata": {
      "needs_background": "light"
     },
     "output_type": "display_data"
    }
   ],
   "source": [
    "from excalibur.plot import cross_section_collection, plot_cross_section, read_cross_section_file\n",
    "\n",
    "'''Plot both cross sections on the same plot'''\n",
    "\n",
    "cross_sections = []\n",
    "\n",
    "nu, sigma = read_cross_section_file('NO', 'ExoMol', 'NO_T1000K_log_P0.0_sigma.txt')\n",
    "\n",
    "cross_sections = cross_section_collection(new_x = nu, new_y = sigma, collection = cross_sections)  # Add first cross section to collection\n",
    "\n",
    "cross_sections = cross_section_collection(new_x = nu2, new_y = sigma2, collection = cross_sections) # Add second cross section to collection, making sure to specify the previous collection as a parameter\n",
    "\n",
    "plot_cross_section(collection = cross_sections, labels = ['14N-16O', '15N-16O'], filename = 'Different_Isotopologues')"
   ]
  },
  {
   "cell_type": "code",
   "execution_count": null,
   "id": "edf1ad5e",
   "metadata": {},
   "outputs": [],
   "source": []
  }
 ],
 "metadata": {
  "kernelspec": {
   "display_name": "Python 3 (ipykernel)",
   "language": "python",
   "name": "python3"
  },
  "language_info": {
   "codemirror_mode": {
    "name": "ipython",
    "version": 3
   },
   "file_extension": ".py",
   "mimetype": "text/x-python",
   "name": "python",
   "nbconvert_exporter": "python",
   "pygments_lexer": "ipython3",
   "version": "3.7.6"
  }
 },
 "nbformat": 4,
 "nbformat_minor": 5
}
