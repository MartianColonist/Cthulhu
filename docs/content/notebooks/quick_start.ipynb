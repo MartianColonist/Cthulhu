{
 "cells": [
  {
   "cell_type": "markdown",
   "metadata": {},
   "source": [
    "## Quick Start\n",
    "\n",
    "This notebook assumes you have followed the steps to download the Excalibur package onto your local machine. If you haven't, please visit the Installation [link Installation] page.\n",
    "\n",
    "On this page, we run through the basic features of Excalibur. We demonstrate how to download a line list, compute a cross section, and plot the result. Further tutorials are more nuanced and illustrate how to play around with various parameters. The Run.py file is where the user will usually interact with Excalibur. Please make sure this file is in the same directory as the 'excalibur' folder in your Excalibur package (if you followed the instructions on the Installation [link] page, this will already be the case)."
   ]
  },
  {
   "cell_type": "markdown",
   "metadata": {},
   "source": [
    "### Downloading a Line List\n",
    "\n",
    "Suppose we want to download the line list for CO from ExoMol. Start by opening up the Run.py file and making sure it is empty; all of the following code will be written in that file. To summon the line list, import the `summon` function and specify the species and database. All of the major end-user functions are contained in the `core.py` file. Call this function, and the line list is downloaded!\n",
    "\n",
    "#### Example: Downloading the CO line list from ExoMol"
   ]
  },
  {
   "cell_type": "code",
   "execution_count": 1,
   "metadata": {},
   "outputs": [
    {
     "name": "stdout",
     "output_type": "stream",
     "text": [
      "\n",
      " ***** Downloading requested data from ExoMol. You have chosen the following parameters: ***** \n",
      "\n",
      "Molecule: CO \n",
      "Isotopologue: 12C-16O \n",
      "Line List: Li2015\n",
      "\n",
      "Starting by downloading the .broad, .pf, and .states files...\n",
      "This file is already downloaded. Moving on.\n",
      "Fetched the broadening coefficients, partition functions, and energy levels.\n",
      "Now downloading the Li2015 line list...\n",
      "\n",
      "Downloading .trans file 1 of 2\n",
      "This file is already downloaded. Moving on.\n",
      "\n",
      "Downloading .trans file 2 of 2\n",
      "This file is already downloaded. Moving on.\n",
      "\n",
      "Line list ready.\n",
      "\n"
     ]
    }
   ],
   "source": [
    "from excalibur.core import summon\n",
    "\n",
    "species = 'CO'\n",
    "database = 'ExoMol'\n",
    "\n",
    "# Download line list\n",
    "summon(database=database, species = species)"
   ]
  },
  {
   "cell_type": "markdown",
   "metadata": {},
   "source": [
    "The output displayed after calling this function has some pertinent details for the user. The default isotopologue and line list has been chosen (the user can specify others if desired) and is shown on top with the molecule. Other data important for cross section computations, notably broadening coefficients, partition functions, and energy levels, is downloaded now for convenience. Finally, we see that the line list itself consists of two files, which ExoMol chooses to store in a .trans extension. Both of these .trans files are downloaded, and reformatted by Excalibur to an HDF5 file type, to save storage space. \n",
    "\n",
    "Excalibur automatically creates an 'input' folder at the same directory level as the Run.py file. This input folder will contain the CO data we have just downloaded."
   ]
  },
  {
   "cell_type": "markdown",
   "metadata": {},
   "source": [
    "### Computing a Cross Section\n",
    "\n",
    "We should now have all the data needed to compute our first cross section for CO! Import the `compute_cross_section` function, again from `excalibur.core`. This time, the user must specify at least five parameters, as opposed to the two for the `summon` function. As before, Excalibur needs to know the species and database from which the line list was downloaded. Cross sections are computed at a certain pressure and temperature, so the user must specify those values as well. Lastly, Excalibur needs to know the top directory level containing downloaded line lists. If no file structure has been changed by the user since the start of the tutorial, this will just be './input/'. This culminates in the code presented below.\n",
    "\n",
    "#### Example: Computing CO Cross Section"
   ]
  },
  {
   "cell_type": "code",
   "execution_count": 2,
   "metadata": {},
   "outputs": [
    {
     "ename": "TypeError",
     "evalue": "compute_cross_section() missing 1 required positional argument: 'log_pressure'",
     "output_type": "error",
     "traceback": [
      "\u001b[0;31m---------------------------------------------------------------------------\u001b[0m",
      "\u001b[0;31mTypeError\u001b[0m                                 Traceback (most recent call last)",
      "\u001b[0;32m/var/folders/q8/rw_x17nd2m18x7xpbh_0yb8h0000gn/T/ipykernel_3393/425013094.py\u001b[0m in \u001b[0;36m<module>\u001b[0;34m\u001b[0m\n\u001b[1;32m      4\u001b[0m \u001b[0;34m\u001b[0m\u001b[0m\n\u001b[1;32m      5\u001b[0m core.compute_cross_section(species = species, database = database, temperature = T, input_dir = input_directory, \n\u001b[0;32m----> 6\u001b[0;31m                       pressure = P)\n\u001b[0m\u001b[1;32m      7\u001b[0m \u001b[0;34m\u001b[0m\u001b[0m\n",
      "\u001b[0;31mTypeError\u001b[0m: compute_cross_section() missing 1 required positional argument: 'log_pressure'"
     ]
    }
   ],
   "source": [
    "from excalibur.core import compute_cross_section\n",
    "\n",
    "P = 1  # Pressure in bars\n",
    "T = 1000  # Temperature in Kelvin\n",
    "input_directory = './input' # Top level directory containing line lists\n",
    "\n",
    "compute_cross_section(species = species, database = database, temperature = T, input_dir = input_directory, \n",
    "                      pressure = P)\n",
    "\n"
   ]
  },
  {
   "cell_type": "markdown",
   "metadata": {},
   "source": [
    "As you can see, the console will display important information about how the computation is progressing. The Li2015 line list for CO is quite small, less than 1 MB (corresponding to $\\approx$ 100,000 transitions), so the total cross section takes only 12 seconds to produce. Larger line lists, like the POKAZATEL line list for H2O, can be on the order of tens of gigabytes ($\\approx$ 6 billion transitions), and lead to cross sections that take around 24 hours to compute.\n",
    "\n",
    "And that's it! You'll notice that an 'output' folder has been created, at the same directory level as the Run.py file and the 'input' folder. Navigate through the output folder (by clicking on the molecule, database, etc.) to find our CO cross section in a .txt file titled [INSERT TITLE HERE]. This file consists of two columns; the first is the wavenumber (in cm$^{-1}$) and the second is the absorption cross section (in cm$^2$). Some users may want to stop here, and just read in the cross section calculations (via any number of Python functions that read columns from a .txt file) for their own research. Other users may want to plot the cross section for a more visually appealing final product. We discuss the latter point in the next section."
   ]
  },
  {
   "cell_type": "markdown",
   "metadata": {},
   "source": [
    "### Plotting a Cross Section\n",
    "\n",
    "This section contains a basic introduction on how to use the plotting routine we've provided. For more complicated plots, like overplotting multiple cross sections on the same plot, see [INSERT LINK].\n",
    "\n",
    "#### Example: Plotting CO Cross Section\n",
    "\n",
    "First, we want to return the columns from the output cross section file. Compute the cross section again, but assign `nu` (the wavenumber) and `sigma` (the absorption cross section) to the return values. This gives us the relevant data without having to create a separate script to parse the .txt file. "
   ]
  },
  {
   "cell_type": "code",
   "execution_count": null,
   "metadata": {},
   "outputs": [],
   "source": [
    "# Compute cross section\n",
    "nu, sigma = compute_cross_section(species = species, database = database, temperature = T, input_dir = input_directory, \n",
    "                      pressure = P)"
   ]
  },
  {
   "cell_type": "markdown",
   "metadata": {},
   "source": [
    "Import the relevant functions, which are contained in plot.py, core.py as we've been using. For this example, we'll need `plot_cross_section` and `cross_section_collection`. "
   ]
  },
  {
   "cell_type": "code",
   "execution_count": null,
   "metadata": {},
   "outputs": [],
   "source": [
    "# Import relevant functions\n",
    "from excalibur.plot import plot_cross_section, cross_section_collection"
   ]
  },
  {
   "cell_type": "markdown",
   "metadata": {},
   "source": [
    "Before we use `plot_cross_section`, we want to add our newly computed cross section to a collection. This extra step comes in especially handy for plotting multiple cross sections to one graph, but is still required even for one cross section. To do this, we call the `cross_section_collection` function, and pass in as parameters our return values `nu` and `sigma`."
   ]
  },
  {
   "cell_type": "code",
   "execution_count": null,
   "metadata": {},
   "outputs": [],
   "source": [
    "# Add to collection\n",
    "cross_sections = cross_section_collection(nu, sigma)"
   ]
  },
  {
   "cell_type": "markdown",
   "metadata": {},
   "source": [
    "Then, to plot, call the `plot_cross_section` function. It requires at least 3 parameters: the cross section collection, an array of labels for each cross_section that is to be plotted (in this case we have added just one label), and a file name. Here, we have chosen a filename that describes exactly what cross section was plotted - the CO cross section, from the Li2015 line list, at a temperature of 1000 K and pressure of 1 bar. "
   ]
  },
  {
   "cell_type": "code",
   "execution_count": null,
   "metadata": {},
   "outputs": [],
   "source": [
    "# Plot cross section\n",
    "spectrum = plot_cross_section(collection = cross_sections, labels = ['CO Cross Section'], filename = 'CO_Li2015_T1000_P1')"
   ]
  },
  {
   "cell_type": "markdown",
   "metadata": {},
   "source": [
    "In a newly created 'plots' folder, which is at the same directory level as 'input' and 'output', you'll see the plot. It should look like this: [INSERT PLOT IMAGE]. "
   ]
  },
  {
   "cell_type": "markdown",
   "metadata": {},
   "source": [
    "### Remove any unwanted directories at the end"
   ]
  }
 ],
 "metadata": {
  "kernelspec": {
   "display_name": "Python 3.7.6 ('base')",
   "language": "python",
   "name": "python3"
  },
  "language_info": {
   "codemirror_mode": {
    "name": "ipython",
    "version": 3
   },
   "file_extension": ".py",
   "mimetype": "text/x-python",
   "name": "python",
   "nbconvert_exporter": "python",
   "pygments_lexer": "ipython3",
   "version": "3.7.6"
  },
  "vscode": {
   "interpreter": {
    "hash": "5f7defddde1abfac0269c8c847bc53f3d7179ce483b0f295025c7fc1e5b0d9d7"
   }
  }
 },
 "nbformat": 4,
 "nbformat_minor": 4
}
