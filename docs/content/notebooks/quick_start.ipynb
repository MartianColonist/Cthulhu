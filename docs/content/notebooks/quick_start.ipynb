{
 "cells": [
  {
   "cell_type": "markdown",
   "id": "e1fb8284",
   "metadata": {},
   "source": [
    "# Cross Section Calculation Pipeline to an Opacity Database"
   ]
  },
  {
   "cell_type": "markdown",
   "id": "ce605f56",
   "metadata": {},
   "source": [
    "This quick start guide demonstrates how Cthulhu offers you the power to download a line list, calculate a high-resolution molecular cross section for a grid of temperatures and pressures, and package the output into a HDF5 opacity database. All on your laptop!\n",
    "\n",
    "This quick start guide assumes at least a passing familiarity with cross sections (or that the world is ending and you need a cross section ASAP). For complete beginners, we recommend starting with the [Cthulhu tutorials](https://cthulhu.readthedocs.io/en/latest/content/notebooks/temperature_pressure.html).\n",
    "\n",
    "Here we'll use AlO as an example, since this is a small line list (~ 5 million transitions) that can easily run on a laptop. We recommend running Cthulhu on a laptop for line lists that are less than about ~100 million transitions. For larger line lists, or if you need a very large grid of pressure-temperature calculations, we recommend sacrificing your cluster to Cthulhu (as shown in [our cluster tutorial](https://cthulhu.readthedocs.io/en/latest/content/notebooks/slurm_tutorial.html))."
   ]
  },
  {
   "cell_type": "markdown",
   "id": "d5e3f0f0",
   "metadata": {},
   "source": [
    "## Download ExoMol Line List for AlO\n"
   ]
  },
  {
   "cell_type": "code",
   "execution_count": 1,
   "id": "5dc67760",
   "metadata": {},
   "outputs": [],
   "source": [
    "from Cthulhu.core import summon\n",
    "\n",
    "species = 'AlO'          # Chemical species name\n",
    "\n",
    "database = 'ExoMol'      # Line list Database  \n",
    "linelist = 'ATP'         # Specific name of the line list for AlO\n",
    "\n",
    "broadening = 'H2-He'     # Background gas broadening\n",
    "\n",
    "nu_min = 200             # Minimum wavenumber (1/wavelength) in units of cm^-1\n",
    "nu_max = 35000           # Maximum wavenumber (1/wavelength) in units of cm^-1\n",
    "\n",
    "input_directory = './input/'   # Where the line list will be downloaded"
   ]
  },
  {
   "cell_type": "markdown",
   "id": "fa000751",
   "metadata": {},
   "source": [
    "Download the AlO line list"
   ]
  },
  {
   "cell_type": "code",
   "execution_count": 2,
   "id": "95944f31",
   "metadata": {},
   "outputs": [
    {
     "name": "stdout",
     "output_type": "stream",
     "text": [
      "\n",
      " ***** Downloading requested data from ExoMol. You have chosen the following parameters: ***** \n",
      "\n",
      "Molecule: AlO \n",
      "Isotopologue: 27Al-16O \n",
      "Line List: ATP\n",
      "\n",
      "Starting by downloading the .broad, .pf, and .states files...\n",
      "Fetched the broadening coefficients, partition functions, and energy levels.\n",
      "Now downloading the ATP line list...\n",
      "\n",
      "Downloading .trans file 1 of 1\n"
     ]
    },
    {
     "name": "stderr",
     "output_type": "stream",
     "text": [
      "100%|██████████| 32.6M/32.6M [00:04<00:00, 7.66MiB/s]\n",
      "/home/ryanmacdonald/code/Cthulhu/Cthulhu/downloader.py:403: FutureWarning: The 'delim_whitespace' keyword in pd.read_csv is deprecated and will be removed in a future version. Use ``sep='\\s+'`` instead\n",
      "  trans_file = pd.read_csv(file, delim_whitespace = True, header=None, usecols = [0,1,2])\n"
     ]
    },
    {
     "name": "stdout",
     "output_type": "stream",
     "text": [
      "\n",
      "Converting this .trans file to HDF to save storage space...\n",
      "This file took 1.1 seconds to reformat to HDF.\n",
      "\n",
      "Line list ready.\n",
      "\n"
     ]
    }
   ],
   "source": [
    "summon(database=database, species = species, linelist = linelist)     # Embrace the Old One"
   ]
  },
  {
   "cell_type": "markdown",
   "id": "00aa2aa6",
   "metadata": {},
   "source": [
    "## Calculate AlO Cross Section"
   ]
  },
  {
   "cell_type": "markdown",
   "id": "c1da248c",
   "metadata": {},
   "source": [
    "First, let's calculate the cross section of AlO for a single pressure-temperature point to get a handle on the runtime. We'll choose 10 bar and 1000 K."
   ]
  },
  {
   "cell_type": "code",
   "execution_count": 3,
   "id": "be112142",
   "metadata": {},
   "outputs": [
    {
     "name": "stdout",
     "output_type": "stream",
     "text": [
      "Beginning cross-section computations...\n",
      "Loading ExoMol format\n",
      "Loading partition function\n",
      "Pre-computing Voigt profiles...\n",
      "Voigt profiles computed in 0.42245705900131725 s\n",
      "Pre-computation steps complete\n",
      "Generating cross section for AlO at P = 1.0 bar, T = 1000.0 K\n",
      "Computing transitions from ATP.h5 | 0.0% complete\n",
      "Completed 4943804 transitions in 17.44031534998794 s\n",
      "Calculation complete!\n",
      "Completed 4943804 transitions in 17.441375998983858 s\n",
      "\n",
      "Total runtime: 21.73889129899908 s\n"
     ]
    }
   ],
   "source": [
    "import numpy as np\n",
    "from Cthulhu.core import compute_cross_section\n",
    "\n",
    "P = [1.0]         # Pressure (bar)\n",
    "T = [1000.0]      # Temperature (K)\n",
    "\n",
    "# There are many more optional arguments to play with!\n",
    "compute_cross_section(database = database, species = species, linelist = linelist,\n",
    "                      pressure = P, temperature = T, S_cut = 0.0,                    # No intensity cut-off (S_cut)\n",
    "                      input_dir = input_directory,\n",
    "                      nu_out_min = nu_min, nu_out_max = nu_max, dnu_out = 0.01,      # Wavenumber spacing of 0.01 cm^-1  (R ~ 10^6)\n",
    "                      broad_type = broadening,\n",
    "                      verbose = True, N_cores = 4)                                   # Grant the mighty Cthulhu 4 cores  "
   ]
  },
  {
   "cell_type": "markdown",
   "id": "3dec84d8",
   "metadata": {},
   "source": [
    "We see that AlO only takes about 20 s for a single (P, T) point, so we can easily compute a cross section for a grid of pressures and temperatures on a laptop.\n",
    "\n",
    "Let's plot the cross section."
   ]
  },
  {
   "cell_type": "code",
   "execution_count": 4,
   "id": "ce3524e5",
   "metadata": {},
   "outputs": [
    {
     "name": "stderr",
     "output_type": "stream",
     "text": [
      "/home/ryanmacdonald/code/Cthulhu/Cthulhu/plot.py:152: UserWarning: Attempt to set non-positive xlim on a log-scaled axis will be ignored.\n",
      "  ax.set_xlim([1e4/nu_max, 1e4/nu_min]) # Convert wavenumber (in cm^-1) to wavelength (in um)\n"
     ]
    },
    {
     "data": {
      "image/png": "[encoded data removed]",
      "text/plain": [
       "<Figure size 640x480 with 1 Axes>"
      ]
     },
     "metadata": {},
     "output_type": "display_data"
    }
   ],
   "source": [
    "from Cthulhu.misc import read_cross_section_file, cross_section_collection\n",
    "from Cthulhu.plot import plot_cross_section\n",
    "\n",
    "'''Read in the cross section we just computed'''\n",
    "\n",
    "# Read in cross section\n",
    "nu, sigma = read_cross_section_file(species = species, database = database, ionization_state = 1,\n",
    "                                    filename = species + '_T' + str(T[0]) + \n",
    "                                    'K_log_P' + str(round(np.log10(P[0]), 1)) + '_' + broadening + '_sigma.txt')\n",
    "\n",
    "cross_sections = []\n",
    "\n",
    "# Add first cross section to collection\n",
    "cross_sections = cross_section_collection(new_x = nu, new_y = sigma, collection = cross_sections)\n",
    "\n",
    "plot_cross_section(collection = cross_sections, labels = [species + ' (1000 K, 1 bar)'], \n",
    "                    filename = species, y_min = 1e-30, x_max = 10, save_fig = False)"
   ]
  },
  {
   "cell_type": "markdown",
   "id": "e15a3da4",
   "metadata": {},
   "source": [
    "Looking good! Now let's iterate over pressures and temperatures to generate a full AlO cross section."
   ]
  },
  {
   "cell_type": "markdown",
   "id": "7c7b9317",
   "metadata": {},
   "source": [
    "#### Full cross section calculation"
   ]
  },
  {
   "cell_type": "markdown",
   "id": "7daa485e",
   "metadata": {},
   "source": [
    "We'll calculate the AlO cross section for the 162 pressure-temperature points used by the [POSEIDON](https://poseidon-retrievals.readthedocs.io/en/latest/) atmospheric retrieval code.\n",
    "\n",
    "The code below will take about 40 minutes to run."
   ]
  },
  {
   "cell_type": "code",
   "execution_count": 6,
   "id": "31a5ffce",
   "metadata": {},
   "outputs": [
    {
     "name": "stdout",
     "output_type": "stream",
     "text": [
      "Beginning cross-section computations...\n",
      "Loading ExoMol format\n",
      "Loading partition function\n",
      "Pre-computing Voigt profiles...\n",
      "Voigt profiles computed in 0.09688280301634222 s\n",
      "Pre-computation steps complete\n",
      "Generating cross section for AlO at P = 1e-06 bar, T = 100.0 K   [1 of 162]\n",
      "Computing transitions from ATP.h5 | 0.0% complete\n",
      "Completed 4943804 transitions in 4.425339196983259 s\n",
      "Calculation complete!\n",
      "Completed 4943804 transitions in 4.426006858004257 s\n",
      "\n",
      "Pre-computing Voigt profiles...\n",
      "Voigt profiles computed in 0.0638098199851811 s\n",
      "Pre-computation steps complete\n",
      "Generating cross section for AlO at P = 1e-06 bar, T = 200.0 K   [2 of 162]\n",
      "Computing transitions from ATP.h5 | 0.0% complete\n",
      "Completed 4943804 transitions in 6.20323004401871 s\n",
      "Calculation complete!\n",
      "Completed 4943804 transitions in 6.203785721008899 s\n",
      "\n",
      "Pre-computing Voigt profiles...\n",
      "Voigt profiles computed in 0.06603590797749348 s\n",
      "Pre-computation steps complete\n",
      "Generating cross section for AlO at P = 1e-06 bar, T = 300.0 K   [3 of 162]\n",
      "Computing transitions from ATP.h5 | 0.0% complete\n",
      "Completed 4943804 transitions in 7.838616247987375 s\n",
      "Calculation complete!\n",
      "Completed 4943804 transitions in 7.839169849001337 s\n",
      "\n",
      "Pre-computing Voigt profiles...\n",
      "Voigt profiles computed in 0.06356672500260174 s\n",
      "Pre-computation steps complete\n",
      "Generating cross section for AlO at P = 1e-06 bar, T = 400.0 K   [4 of 162]\n",
      "Computing transitions from ATP.h5 | 0.0% complete\n",
      "Completed 4943804 transitions in 8.880728834017646 s\n",
      "Calculation complete!\n",
      "Completed 4943804 transitions in 8.881339543993818 s\n",
      "\n",
      "Pre-computing Voigt profiles...\n",
      "Voigt profiles computed in 0.0632484910020139 s\n",
      "Pre-computation steps complete\n",
      "Generating cross section for AlO at P = 1e-06 bar, T = 500.0 K   [5 of 162]\n",
      "Computing transitions from ATP.h5 | 0.0% complete\n",
      "Completed 4943804 transitions in 9.56335925500025 s\n",
      "Calculation complete!\n",
      "Completed 4943804 transitions in 9.564003061997937 s\n",
      "\n",
      "Pre-computing Voigt profiles...\n",
      "Voigt profiles computed in 0.06304049500613473 s\n",
      "Pre-computation steps complete\n",
      "Generating cross section for AlO at P = 1e-06 bar, T = 600.0 K   [6 of 162]\n",
      "Computing transitions from ATP.h5 | 0.0% complete\n",
      "Completed 4943804 transitions in 10.446532749017933 s\n",
      "Calculation complete!\n",
      "Completed 4943804 transitions in 10.447115552000469 s\n",
      "\n",
      "Pre-computing Voigt profiles...\n",
      "Voigt profiles computed in 0.06177792401285842 s\n",
      "Pre-computation steps complete\n",
      "Generating cross section for AlO at P = 1e-06 bar, T = 700.0 K   [7 of 162]\n",
      "Computing transitions from ATP.h5 | 0.0% complete\n",
      "Completed 4943804 transitions in 11.199920223996742 s\n",
      "Calculation complete!\n",
      "Completed 4943804 transitions in 11.200587606988847 s\n",
      "\n",
      "Pre-computing Voigt profiles...\n",
      "Voigt profiles computed in 0.06318107200786471 s\n",
      "Pre-computation steps complete\n",
      "Generating cross section for AlO at P = 1e-06 bar, T = 800.0 K   [8 of 162]\n",
      "Computing transitions from ATP.h5 | 0.0% complete\n",
      "Completed 4943804 transitions in 12.363316608010791 s\n",
      "Calculation complete!\n",
      "Completed 4943804 transitions in 12.363934905006317 s\n",
      "\n",
      "Pre-computing Voigt profiles...\n",
      "Voigt profiles computed in 0.05765024299034849 s\n",
      "Pre-computation steps complete\n",
      "Generating cross section for AlO at P = 1e-06 bar, T = 900.0 K   [9 of 162]\n",
      "Computing transitions from ATP.h5 | 0.0% complete\n",
      "Completed 4943804 transitions in 12.604540360014653 s\n",
      "Calculation complete!\n",
      "Completed 4943804 transitions in 12.605002136988332 s\n",
      "\n",
      "Pre-computing Voigt profiles...\n",
      "Voigt profiles computed in 0.05814539600396529 s\n",
      "Pre-computation steps complete\n",
      "Generating cross section for AlO at P = 1e-06 bar, T = 1000.0 K   [10 of 162]\n",
      "Computing transitions from ATP.h5 | 0.0% complete\n",
      "Completed 4943804 transitions in 14.267176855006255 s\n",
      "Calculation complete!\n",
      "Completed 4943804 transitions in 14.267711738008074 s\n",
      "\n",
      "Pre-computing Voigt profiles...\n",
      "Voigt profiles computed in 0.05916293401969597 s\n",
      "Pre-computation steps complete\n",
      "Generating cross section for AlO at P = 1e-06 bar, T = 1200.0 K   [11 of 162]\n",
      "Computing transitions from ATP.h5 | 0.0% complete\n",
      "Completed 4943804 transitions in 14.837104057020042 s\n",
      "Calculation complete!\n",
      "Completed 4943804 transitions in 14.837789791985415 s\n",
      "\n",
      "Pre-computing Voigt profiles...\n",
      "Voigt profiles computed in 0.057939170015743 s\n",
      "Pre-computation steps complete\n",
      "Generating cross section for AlO at P = 1e-06 bar, T = 1400.0 K   [12 of 162]\n",
      "Computing transitions from ATP.h5 | 0.0% complete\n",
      "Completed 4943804 transitions in 15.237604216992622 s\n",
      "Calculation complete!\n",
      "Completed 4943804 transitions in 15.23815492700669 s\n",
      "\n",
      "Pre-computing Voigt profiles...\n",
      "Voigt profiles computed in 0.06431575902388431 s\n",
      "Pre-computation steps complete\n",
      "Generating cross section for AlO at P = 1e-06 bar, T = 1600.0 K   [13 of 162]\n",
      "Computing transitions from ATP.h5 | 0.0% complete\n",
      "Completed 4943804 transitions in 16.07042353900033 s\n",
      "Calculation complete!\n",
      "Completed 4943804 transitions in 16.071013109001797 s\n",
      "\n"
     ]
    }
   ],
   "source": [
    "from Cthulhu.core import compute_cross_section\n",
    "\n",
    "P = [1.0e-6, 1.0e-5, 1.0e-4, 1.0e-3, 1.0e-2, 1.0e-1, 1.0e0, 1.0e1, 1.0e2]    # Pressure (bar)\n",
    "log_P = [-6.0, -5.0, -4.0, -3.0, -2.0, -1.0, 0.0, 1.0, 2.0]                  # log10 pressure\n",
    "T = [100.0, 200.0, 300.0, 400.0, 500.0, 600.0, 700.0, 800.0,                 # Temperature (K)\n",
    "     900.0, 1000.0, 1200.0, 1400.0, 1600.0, 1800.0, 2000.0,\n",
    "     2500.0, 3000.0, 3500.0]\n",
    "\n",
    "compute_cross_section(database = database, species = species, linelist = linelist,\n",
    "                      pressure = P, temperature = T, S_cut = 0.0,\n",
    "                      input_dir = input_directory,\n",
    "                      nu_out_min = nu_min, nu_out_max = nu_max, dnu_out = 0.01,\n",
    "                      broad_type = broadening,\n",
    "                      verbose = True, N_cores = 4)"
   ]
  },
  {
   "cell_type": "markdown",
   "id": "1deaba19",
   "metadata": {},
   "source": [
    "## Plot Computed Cross Section"
   ]
  },
  {
   "cell_type": "markdown",
   "id": "25e5446a",
   "metadata": {},
   "source": [
    "We'll now plot two temperatures and pressures to show the T and P dependences of AlO's cross section."
   ]
  },
  {
   "cell_type": "code",
   "execution_count": 5,
   "id": "ad7ebea3",
   "metadata": {},
   "outputs": [
    {
     "ename": "FileNotFoundError",
     "evalue": "[Errno 2] No such file or directory: './output/AlO  ~  (27Al-16O)/ExoMol/ATP/AlO_T2000.0K_log_P0.0_H2-He_sigma.txt'",
     "output_type": "error",
     "traceback": [
      "\u001b[0;31m---------------------------------------------------------------------------\u001b[0m",
      "\u001b[0;31mFileNotFoundError\u001b[0m                         Traceback (most recent call last)",
      "Cell \u001b[0;32mIn[5], line 9\u001b[0m\n\u001b[1;32m      5\u001b[0m nu, sigma \u001b[38;5;241m=\u001b[39m read_cross_section_file(species \u001b[38;5;241m=\u001b[39m species, database \u001b[38;5;241m=\u001b[39m database, \n\u001b[1;32m      6\u001b[0m                                     filename \u001b[38;5;241m=\u001b[39m species \u001b[38;5;241m+\u001b[39m \u001b[38;5;124m'\u001b[39m\u001b[38;5;124m_T1000.0K_log_P0.0_\u001b[39m\u001b[38;5;124m'\u001b[39m \u001b[38;5;241m+\u001b[39m broadening \u001b[38;5;241m+\u001b[39m \u001b[38;5;124m'\u001b[39m\u001b[38;5;124m_sigma.txt\u001b[39m\u001b[38;5;124m'\u001b[39m)\n\u001b[1;32m      8\u001b[0m \u001b[38;5;66;03m# Read in cross section at 2000 K\u001b[39;00m\n\u001b[0;32m----> 9\u001b[0m nu2, sigma2 \u001b[38;5;241m=\u001b[39m \u001b[43mread_cross_section_file\u001b[49m\u001b[43m(\u001b[49m\u001b[43mspecies\u001b[49m\u001b[43m \u001b[49m\u001b[38;5;241;43m=\u001b[39;49m\u001b[43m \u001b[49m\u001b[43mspecies\u001b[49m\u001b[43m,\u001b[49m\u001b[43m \u001b[49m\u001b[43mdatabase\u001b[49m\u001b[43m \u001b[49m\u001b[38;5;241;43m=\u001b[39;49m\u001b[43m \u001b[49m\u001b[43mdatabase\u001b[49m\u001b[43m,\u001b[49m\n\u001b[1;32m     10\u001b[0m \u001b[43m                                        \u001b[49m\u001b[43mfilename\u001b[49m\u001b[43m \u001b[49m\u001b[38;5;241;43m=\u001b[39;49m\u001b[43m \u001b[49m\u001b[43mspecies\u001b[49m\u001b[43m \u001b[49m\u001b[38;5;241;43m+\u001b[39;49m\u001b[43m \u001b[49m\u001b[38;5;124;43m'\u001b[39;49m\u001b[38;5;124;43m_T2000.0K_log_P0.0_\u001b[39;49m\u001b[38;5;124;43m'\u001b[39;49m\u001b[43m \u001b[49m\u001b[38;5;241;43m+\u001b[39;49m\u001b[43m \u001b[49m\u001b[43mbroadening\u001b[49m\u001b[43m \u001b[49m\u001b[38;5;241;43m+\u001b[39;49m\u001b[43m \u001b[49m\u001b[38;5;124;43m'\u001b[39;49m\u001b[38;5;124;43m_sigma.txt\u001b[39;49m\u001b[38;5;124;43m'\u001b[39;49m\u001b[43m)\u001b[49m\n\u001b[1;32m     12\u001b[0m \u001b[38;5;66;03m# Add both cross sections to collection in preparation for plotting\u001b[39;00m\n\u001b[1;32m     14\u001b[0m cross_sections \u001b[38;5;241m=\u001b[39m []\n",
      "File \u001b[0;32m~/code/Cthulhu/Cthulhu/misc.py:229\u001b[0m, in \u001b[0;36mread_cross_section_file\u001b[0;34m(species, database, filename, isotope, ionization_state, linelist, output_dir)\u001b[0m\n\u001b[1;32m    227\u001b[0m \u001b[38;5;28;01mif\u001b[39;00m os\u001b[38;5;241m.\u001b[39mpath\u001b[38;5;241m.\u001b[39mexists(output_directory):\n\u001b[1;32m    228\u001b[0m     file  \u001b[38;5;241m=\u001b[39m output_directory \u001b[38;5;241m+\u001b[39m filename\n\u001b[0;32m--> 229\u001b[0m     \u001b[38;5;28;01mwith\u001b[39;00m \u001b[38;5;28;43mopen\u001b[39;49m\u001b[43m(\u001b[49m\u001b[43mfile\u001b[49m\u001b[43m,\u001b[49m\u001b[43m \u001b[49m\u001b[38;5;124;43m'\u001b[39;49m\u001b[38;5;124;43mr\u001b[39;49m\u001b[38;5;124;43m'\u001b[39;49m\u001b[43m)\u001b[49m \u001b[38;5;28;01mas\u001b[39;00m f:\n\u001b[1;32m    230\u001b[0m         contents \u001b[38;5;241m=\u001b[39m csv\u001b[38;5;241m.\u001b[39mreader(f, delimiter\u001b[38;5;241m=\u001b[39m\u001b[38;5;124m'\u001b[39m\u001b[38;5;124m \u001b[39m\u001b[38;5;124m'\u001b[39m)\n\u001b[1;32m    231\u001b[0m         nu \u001b[38;5;241m=\u001b[39m []\n",
      "\u001b[0;31mFileNotFoundError\u001b[0m: [Errno 2] No such file or directory: './output/AlO  ~  (27Al-16O)/ExoMol/ATP/AlO_T2000.0K_log_P0.0_H2-He_sigma.txt'"
     ]
    }
   ],
   "source": [
    "from Cthulhu.misc import read_cross_section_file, cross_section_collection\n",
    "from Cthulhu.plot import plot_cross_section\n",
    "\n",
    "# Read in cross section at 1000 K\n",
    "nu, sigma = read_cross_section_file(species = species, database = database, \n",
    "                                    filename = species + '_T1000.0K_log_P0.0_' + broadening + '_sigma.txt')\n",
    "\n",
    "# Read in cross section at 2000 K\n",
    "nu2, sigma2 = read_cross_section_file(species = species, database = database,\n",
    "                                        filename = species + '_T2000.0K_log_P0.0_' + broadening + '_sigma.txt')\n",
    "\n",
    "# Add both cross sections to collection in preparation for plotting\n",
    "\n",
    "cross_sections = []\n",
    "\n",
    "# Add first cross section to collection\n",
    "cross_sections = cross_section_collection(new_x = nu, new_y = sigma, collection = cross_sections)\n",
    "\n",
    "# Add second cross section to collection, making sure to specify the previous collection as a parameter\n",
    "cross_sections = cross_section_collection(new_x = nu2, new_y = sigma2, collection = cross_sections)\n",
    "\n",
    "plot_cross_section(collection = cross_sections, labels = [species + ' (1000 K, 1 bar)', species + ' (2000 K, 1 bar)'], \n",
    "                    filename = species + '_Temperature', y_min = 1.0e-30)"
   ]
  },
  {
   "cell_type": "code",
   "execution_count": null,
   "id": "1c771041",
   "metadata": {},
   "outputs": [],
   "source": [
    "# Read in cross section at 1 mbar\n",
    "nu, sigma = read_cross_section_file(species = species, database = database, \n",
    "                                    filename = species + '_T1000.0K_log_P-3.0_' + broadening + '_sigma.txt')\n",
    "\n",
    "# Read in cross section at 10 bar\n",
    "nu2, sigma2 = read_cross_section_file(species = species, database = database,\n",
    "                                        filename = species + '_T1000.0K_log_P1.0_' + broadening + '_sigma.txt')\n",
    "\n",
    "cross_sections = []\n",
    "\n",
    "# Add first cross section to collection\n",
    "cross_sections = cross_section_collection(new_x = nu, new_y = sigma, collection = cross_sections)\n",
    "\n",
    "# Add second cross section to collection, making sure to specify the previous collection as a parameter\n",
    "cross_sections = cross_section_collection(new_x = nu2, new_y = sigma2, collection = cross_sections)\n",
    "\n",
    "plot_cross_section(collection = cross_sections, labels = [species + ' (1000 K, 1 mbar)', species + ' (1000 K, 10 bar)'], \n",
    "                    filename = species + '_Pressure', y_min = 1.0e-30)"
   ]
  },
  {
   "cell_type": "markdown",
   "id": "5297afdd",
   "metadata": {},
   "source": [
    "### Package the cross section grid as a HDF5 file"
   ]
  },
  {
   "cell_type": "markdown",
   "id": "9e9b5ab6",
   "metadata": {},
   "source": [
    "By default, Excalibur writes the cross section for each (P,T) pair as a txt file in the /output folder. \n",
    "\n",
    "We'll now combine all of the different (P,T) pairs into a single HDF5 file for storage efficiency and fast read time."
   ]
  },
  {
   "cell_type": "code",
   "execution_count": 13,
   "id": "0107d8b8",
   "metadata": {},
   "outputs": [
    {
     "name": "stdout",
     "output_type": "stream",
     "text": [
      "Now preparing HDF5 file for: AlO\n"
     ]
    },
    {
     "name": "stderr",
     "output_type": "stream",
     "text": [
      "Progress: 100%|██████████| 162/162 [06:39<00:00,  2.46s/it]\n"
     ]
    },
    {
     "name": "stdout",
     "output_type": "stream",
     "text": [
      "AlO done\n"
     ]
    }
   ],
   "source": [
    "from Cthulhu.hdf5_package import make_single_species_HDF5\n",
    "\n",
    "P = [1.0e-6, 1.0e-5, 1.0e-4, 1.0e-3, 1.0e-2, 1.0e-1, 1.0e0, 1.0e1, 1.0e2]    # Pressure (bar)\n",
    "log_P = [-6.0, -5.0, -4.0, -3.0, -2.0, -1.0, 0.0, 1.0, 2.0]                  # log10 pressure\n",
    "T = [100.0, 200.0, 300.0, 400.0, 500.0, 600.0, 700.0, 800.0,                 # Temperature (K)\n",
    "     900.0, 1000.0, 1200.0, 1400.0, 1600.0, 1800.0, 2000.0,\n",
    "     2500.0, 3000.0, 3500.0]\n",
    "\n",
    "make_single_species_HDF5(species, database = database, linelist = linelist, \n",
    "                         log_P = log_P, T = T, isotope = 'default', \n",
    "                         broadening = broadening, output_dir = './output/HDF5/')"
   ]
  },
  {
   "cell_type": "markdown",
   "id": "a5051785",
   "metadata": {},
   "source": [
    "#### Combining different chemical species into an opacity database"
   ]
  },
  {
   "cell_type": "markdown",
   "id": "daef9a3a",
   "metadata": {},
   "source": [
    "Once you have made the HDF5 file for a single chemical species, you can combined them into an opacity database HDF5 file containing the cross sections for multiple gases."
   ]
  },
  {
   "cell_type": "code",
   "execution_count": 5,
   "id": "b0ff2b98",
   "metadata": {},
   "outputs": [
    {
     "name": "stdout",
     "output_type": "stream",
     "text": [
      "AlO done\n"
     ]
    }
   ],
   "source": [
    "from Cthulhu.hdf5_package import extend_HDF5_database\n",
    "\n",
    "database_name = 'Combined_Opacity_database.hdf5'   # If this database doesn't already exist, Cthulhu will create the file\n",
    "\n",
    "extend_HDF5_database(database_name, species)"
   ]
  },
  {
   "cell_type": "markdown",
   "id": "e573b316",
   "metadata": {},
   "source": [
    "Let's print the attributes of our new opacity database."
   ]
  },
  {
   "cell_type": "code",
   "execution_count": 6,
   "id": "2b08ca78",
   "metadata": {},
   "outputs": [
    {
     "name": "stdout",
     "output_type": "stream",
     "text": [
      "AlO\n",
      "  Broadening: H2-He\n",
      "  Linelist: ATP\n",
      "  Modified: 2024-05-10\n",
      "  Source: ExoMol\n",
      "  Version: v2\n",
      "AlO/T\n",
      "  Units: K\n",
      "  Variable: Temperature\n",
      "AlO/log(P)\n",
      "  Units: log10(P/bar)\n",
      "  Variable: Pressure (log10 scale)\n",
      "AlO/log(sigma)\n",
      "  Units: log10(sigma/m^2)\n",
      "  Variable: Cross section (log10 scale)\n",
      "AlO/nu\n",
      "  Units: cm^-1\n",
      "  Variable: Wavenumber\n"
     ]
    }
   ],
   "source": [
    "import h5py\n",
    "\n",
    "def print_attrs(name, obj):\n",
    "    \"\"\"Print attributes of an HDF5 object.\"\"\"\n",
    "    print(name)\n",
    "    for key, val in obj.attrs.items():\n",
    "        print(f\"  {key}: {val}\")\n",
    "\n",
    "def list_all_attributes(filename):\n",
    "    \"\"\"List all attributes in an HDF5 file.\"\"\"\n",
    "    with h5py.File(filename, 'r') as f:\n",
    "        f.visititems(print_attrs)\n",
    "\n",
    "list_all_attributes('./Combined_Opacity_database.hdf5')"
   ]
  },
  {
   "cell_type": "markdown",
   "id": "faf9debd",
   "metadata": {},
   "source": [
    "Congratulations, you've made your fitst opacity database! 🎉\n",
    "\n",
    "You can now use this HDF5 file with your favourite exoplanet or brown dwarf modelling code."
   ]
  }
 ],
 "metadata": {
  "kernelspec": {
   "display_name": "Python 3 (ipykernel)",
   "language": "python",
   "name": "python3"
  },
  "language_info": {
   "codemirror_mode": {
    "name": "ipython",
    "version": 3
   },
   "file_extension": ".py",
   "mimetype": "text/x-python",
   "name": "python",
   "nbconvert_exporter": "python",
   "pygments_lexer": "ipython3",
   "version": "3.9.19"
  }
 },
 "nbformat": 4,
 "nbformat_minor": 5
}
