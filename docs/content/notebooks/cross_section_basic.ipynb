{
 "cells": [
  {
   "cell_type": "markdown",
   "metadata": {},
   "source": [
    "## Cross Sections for Beginners\n",
    "\n",
    "This notebook assumes you have followed the steps to download the Cthulhu package onto your local machine. If you haven't, please visit the [Installation](https://cthulhu.readthedocs.io/en/latest/content/installation.html) page.\n",
    "\n",
    "On this page, we run through the basic features of Cthulhu. We demonstrate how to download a line list, compute a cross section, and plot the result. Further tutorials are more nuanced and illustrate how to play around with various parameters. The user can run the code in this jupyter notebook file directly. Or, if they so choose, they can copy the code to an empty Python file (which you can create) at the same directory as the 'Cthulhu' folder in your Cthulhu package (i.e. Cthulhu/Cthulhu/YOUR_FILE_NAME.py)"
   ]
  },
  {
   "cell_type": "markdown",
   "metadata": {},
   "source": [
    "### Downloading a Line List\n",
    "\n",
    "Suppose we want to download the line list for CO from ExoMol. All of the major end-user functions are contained in the `core.py` file. Thus, to summon the line list, we import the `summon` function `from Cthulhu.core`. We then specify the species and database. Finally, call the `summon` function, and the line list is downloaded!\n",
    "\n",
    "#### Example: Downloading the CO line list from ExoMol"
   ]
  },
  {
   "cell_type": "code",
   "execution_count": 1,
   "metadata": {},
   "outputs": [
    {
     "name": "stdout",
     "output_type": "stream",
     "text": [
      "\n",
      " ***** Downloading requested data from ExoMol. You have chosen the following parameters: ***** \n",
      "\n",
      "Molecule: CO \n",
      "Isotopologue: 12C-16O \n",
      "Line List: Li2015\n",
      "\n",
      "Starting by downloading the .broad, .pf, and .states files...\n",
      "Fetched the broadening coefficients, partition functions, and energy levels.\n",
      "Now downloading the Li2015 line list...\n",
      "\n",
      "Downloading .trans file 1 of 2\n"
     ]
    },
    {
     "name": "stderr",
     "output_type": "stream",
     "text": [
      "100%|██████████| 1.40M/1.40M [00:02<00:00, 541kiB/s]\n"
     ]
    },
    {
     "name": "stdout",
     "output_type": "stream",
     "text": [
      "\n",
      "Converting this .trans file to HDF to save storage space...\n",
      "This file took 0.5 seconds to reformat to HDF.\n",
      "\n",
      "Downloading .trans file 2 of 2\n"
     ]
    },
    {
     "name": "stderr",
     "output_type": "stream",
     "text": [
      "100%|██████████| 63.5k/63.5k [00:00<00:00, 155kiB/s]"
     ]
    },
    {
     "name": "stdout",
     "output_type": "stream",
     "text": [
      "\n",
      "Converting this .trans file to HDF to save storage space...\n",
      "This file took 0.0 seconds to reformat to HDF.\n",
      "\n",
      "Line list ready.\n",
      "\n"
     ]
    },
    {
     "name": "stderr",
     "output_type": "stream",
     "text": [
      "\n"
     ]
    }
   ],
   "source": [
    "from Cthulhu.core import summon\n",
    "\n",
    "species = 'CO'\n",
    "database = 'ExoMol'\n",
    "\n",
    "# Download line list\n",
    "summon(database=database, species = species)"
   ]
  },
  {
   "cell_type": "markdown",
   "metadata": {},
   "source": [
    "The output displayed after calling this function has some pertinent details for the user. The default isotopologue and line list has been chosen (the user can specify others if desired) and is shown on top with the molecule. Other data important for cross section computations, notably broadening coefficients, partition functions, and energy levels, is downloaded now for convenience. Finally, we see that the line list itself consists of two files, which ExoMol chooses to store in a .trans extension. Both of these .trans files are downloaded, and reformatted by Cthulhu to an HDF5 file type, to save storage space. \n",
    "\n",
    "Cthulhu automatically creates an 'input' folder at the same directory level as the Run.py file. This input folder will contain the CO data we have just downloaded."
   ]
  },
  {
   "cell_type": "markdown",
   "metadata": {},
   "source": [
    "### Computing a Cross Section\n",
    "\n",
    "We should now have all the data needed to compute our first cross section for CO! Import the `compute_cross_section` function, again from `Cthulhu.core`. This time, the user must specify at least five parameters, as opposed to the two for the `summon` function. As before, Cthulhu needs to know the `species` and `database` from which the line list was downloaded. Cross sections are computed at a certain pressure and temperature, so the user must specify the values `P` and `T` as well. Lastly, Cthulhu needs to know the top directory level containing downloaded line lists. If no file structure has been changed by the user since the start of the tutorial, this will just be equivalent to setting `input_directory = './input/'`. This culminates in the code presented below.\n",
    "\n",
    "#### Example: Computing CO Cross Section"
   ]
  },
  {
   "cell_type": "code",
   "execution_count": 2,
   "metadata": {},
   "outputs": [
    {
     "name": "stdout",
     "output_type": "stream",
     "text": [
      "Beginning cross-section computations...\n",
      "Loading ExoMol format\n",
      "Loading partition function\n",
      "Pre-computing Voigt profiles...\n",
      "Voigt profiles computed in 6.061192208006105 s\n",
      "Pre-computation steps complete\n",
      "Generating cross section for CO at P = 1 bar, T = 1000 K\n",
      "Computing transitions from Li2015.h5 | 0.0% complete\n",
      "Completed 125496 transitions in 3.3780933750022086 s\n",
      "Computing transitions from E2.h5 | 50.0% complete\n",
      "Completed 6474 transitions in 0.05918783300148789 s\n",
      "Calculation complete!\n",
      "Completed 131970 transitions in 3.454463375004707 s\n",
      "\n",
      "Total runtime: 13.963372666003124 s\n"
     ]
    }
   ],
   "source": [
    "from Cthulhu.core import compute_cross_section\n",
    "\n",
    "P = 1                          # Pressure in bar\n",
    "T = 1000                       # Temperature in Kelvin\n",
    "input_directory = './input/'   # Top level directory containing line lists\n",
    "\n",
    "compute_cross_section(species = species, database = database, \n",
    "                      temperature = T, pressure = P,\n",
    "                      input_dir = input_directory,\n",
    "                      )"
   ]
  },
  {
   "cell_type": "markdown",
   "metadata": {},
   "source": [
    "As you can see, the console will display important information about how the computation is progressing. The Li2015 line list for $\\rm{CO}$ is quite small, less than 1 MB (corresponding to $\\approx$ 100,000 transitions), so the total cross section takes only 12 seconds to produce. Larger line lists, like the POKAZATEL line list for $\\rm{H}_2 \\rm{O}$, can be on the order of tens of gigabytes ($\\approx$ 6 billion transitions), and lead to cross sections that take around 24 hours to compute.\n",
    "\n",
    "And that's it! You'll notice that an 'output' folder has been created, at the same directory level as the Run.py file and the 'input' folder. Navigate through the output folder (by clicking on the molecule, database, etc.) to find our $\\rm{CO}$ cross section in a .txt file titled 'CO_T1000K_log_P0.0_H2-He_sigma.txt'. This is aptly named according to the parameters with which the cross section was computed.\n",
    "\n",
    "The cross section file consists of two columns; the first is the wavenumber (in $\\mathrm{cm}^{-1}$) and the second is the absorption cross section (in $\\mathrm{cm}^{2}$). Some users may want to stop here, and just read in the cross section calculations for their own research. A function to read the cross section, `read_cross_section_file`, is provided and demonstrated below. Other users may want to plot the cross section for a more visually appealing final product. We show this as well in the next section."
   ]
  },
  {
   "cell_type": "markdown",
   "metadata": {},
   "source": [
    "### Reading in and Plotting a Cross Section\n",
    "\n",
    "This section contains a basic introduction on how to use the plotting routine we've provided. For more complicated plots, like overplotting multiple cross sections on the same plot, see any of the other tutorials provided (like [this](https://cthulhu.readthedocs.io/en/latest/content/notebooks/cross_section_grid.html) one).\n",
    "\n",
    "#### Example: Plotting $\\rm{CO}$ Cross Section\n",
    "\n",
    "First, we want to return the wavenumber and absorption from the output cross section file. To do this, import the `read_cross_section_file` from `plot.py`. This function requires the `species` and `database` as parameters, as well as the `filename` of the output file. We assign `nu` (the wavenumber) and `sigma` (the absorption cross section) to the return values."
   ]
  },
  {
   "cell_type": "code",
   "execution_count": 3,
   "metadata": {},
   "outputs": [],
   "source": [
    "from Cthulhu.misc import read_cross_section_file\n",
    "\n",
    "species = 'CO'\n",
    "database = 'ExoMol'\n",
    "\n",
    "# Read in previously computed cross section file\n",
    "nu, sigma  = read_cross_section_file(species = species, database = database, filename = 'CO_T1000K_log_P0.0_H2-He_sigma.txt')"
   ]
  },
  {
   "cell_type": "markdown",
   "metadata": {},
   "source": [
    "We'll also need to import `plot_cross_section` and `cross_section_collection`. "
   ]
  },
  {
   "cell_type": "code",
   "execution_count": 4,
   "metadata": {},
   "outputs": [],
   "source": [
    "# Import relevant functions\n",
    "from Cthulhu.misc import cross_section_collection\n",
    "from Cthulhu.plot import plot_cross_section"
   ]
  },
  {
   "cell_type": "markdown",
   "metadata": {},
   "source": [
    "Before we use `plot_cross_section`, we want to add our newly computed cross section to a collection. This extra step comes in especially handy for plotting multiple cross sections to one graph, but is still required even for one cross section. To do this, we call the `cross_section_collection` function, and pass in as parameters our return values `nu` and `sigma`."
   ]
  },
  {
   "cell_type": "code",
   "execution_count": 5,
   "metadata": {},
   "outputs": [],
   "source": [
    "sigmas = []\n",
    "\n",
    "# Add to collection\n",
    "cross_sections = cross_section_collection(nu, sigma, sigmas)"
   ]
  },
  {
   "cell_type": "markdown",
   "metadata": {},
   "source": [
    "Then, to plot, call the `plot_cross_section` function. It requires at least 3 parameters: the cross section `collection`, an array of `labels` for each cross_section that is to be plotted (in this case we have added just one label), and a `filename` to save the plot to. Here, we have chosen a filename that describes exactly what cross section was plotted - the $\\rm{CO}$ cross section, from the Li2015 line list, at a temperature of 1000 K and pressure of 1 bar. "
   ]
  },
  {
   "cell_type": "code",
   "execution_count": 6,
   "metadata": {},
   "outputs": [
    {
     "data": {
      "image/png": "[encoded data removed]",
      "text/plain": [
       "<Figure size 640x480 with 1 Axes>"
      ]
     },
     "metadata": {},
     "output_type": "display_data"
    }
   ],
   "source": [
    "# Plot cross section\n",
    "spectrum = plot_cross_section(collection = cross_sections, \n",
    "                              labels = ['CO Cross Section'],\n",
    "                              filename = 'CO_Li2015_T1000_P1',\n",
    "                              y_min = 1e-30)"
   ]
  },
  {
   "cell_type": "markdown",
   "metadata": {},
   "source": [
    "In a newly created 'plots' folder, which is at the same directory level as 'input' and 'output', you'll see the plot. "
   ]
  }
 ],
 "metadata": {
  "kernelspec": {
   "display_name": "Python 3 (ipykernel)",
   "language": "python",
   "name": "python3"
  },
  "language_info": {
   "codemirror_mode": {
    "name": "ipython",
    "version": 3
   },
   "file_extension": ".py",
   "mimetype": "text/x-python",
   "name": "python",
   "nbconvert_exporter": "python",
   "pygments_lexer": "ipython3",
   "version": "3.11.9"
  },
  "vscode": {
   "interpreter": {
    "hash": "5f7defddde1abfac0269c8c847bc53f3d7179ce483b0f295025c7fc1e5b0d9d7"
   }
  }
 },
 "nbformat": 4,
 "nbformat_minor": 4
}
