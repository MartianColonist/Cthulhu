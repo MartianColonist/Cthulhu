{
 "cells": [
  {
   "cell_type": "markdown",
   "id": "d28a03d2",
   "metadata": {},
   "source": [
    "## Computing Cross Sections for a Grid of Pressures and Temperatures\n",
    "\n",
    "Often, a user will want to compute a cross section at multiple pressure and temperatures. In this tutorial, we demonstrate how to do just that, along with plotting all the cross sections on the same graph. We assume the user has read the [Quick Start](https://excalibur-alpha.readthedocs.io/en/latest/content/notebooks/quick_start.html) tutorial already. \n"
   ]
  },
  {
   "cell_type": "markdown",
   "id": "989df22c",
   "metadata": {},
   "source": [
    "### Pressure Grid\n",
    "\n",
    "To compute the cross section for a grid, simply enter an array instead of an integer for either the pressure, temperature, or both. Everything else remains the same. In this section, we'll compute over a grid of pressures, and in the next section we'll compute over a grid of temperatures."
   ]
  },
  {
   "cell_type": "code",
   "execution_count": 1,
   "id": "ba55d26b",
   "metadata": {},
   "outputs": [
    {
     "name": "stdout",
     "output_type": "stream",
     "text": [
      "\n",
      " ***** Downloading requested data from ExoMol. You have chosen the following parameters: ***** \n",
      "\n",
      "Molecule: CO \n",
      "Isotopologue: 12C-16O \n",
      "Line List: Li2015\n",
      "\n",
      "Starting by downloading the .broad, .pf, and .states files...\n",
      "This file is already downloaded. Moving on.\n",
      "Fetched the broadening coefficients, partition functions, and energy levels.\n",
      "Now downloading the Li2015 line list...\n",
      "\n",
      "Downloading .trans file 1 of 2\n",
      "This file is already downloaded. Moving on.\n",
      "\n",
      "Downloading .trans file 2 of 2\n",
      "This file is already downloaded. Moving on.\n",
      "\n",
      "Line list ready.\n",
      "\n",
      "Beginning cross-section computations...\n",
      "Loading ExoMol format\n",
      "Loading partition function\n",
      "Pre-computing Voigt profiles...\n",
      "Voigt profiles computed in 6.454409584 s\n",
      "Pre-computation steps complete\n",
      "Generating cross section for CO at P = 0.01 bar, T = 1000 K   [21 of 3\n",
      "Computing transitions from Li2015.h5 | 0.0% complete\n",
      "Completed 125496 transitions in 3.380160083 s\n",
      "Computing transitions from E2.h5 | 50.0% complete\n",
      "Completed 6474 transitions in 0.08704620800000029 s\n",
      "Calculation complete!\n",
      "Completed 131970 transitions in 3.532362709000001 s\n",
      "\n",
      "Pre-computing Voigt profiles...\n",
      "Voigt profiles computed in 5.748345666000002 s\n",
      "Pre-computation steps complete\n",
      "Generating cross section for CO at P = 0.1 bar, T = 1000 K   [21 of 3\n",
      "Computing transitions from Li2015.h5 | 0.0% complete\n",
      "Completed 125496 transitions in 3.4921634170000004 s\n",
      "Computing transitions from E2.h5 | 50.0% complete\n",
      "Completed 6474 transitions in 0.07565800000000422 s\n",
      "Calculation complete!\n",
      "Completed 131970 transitions in 3.5932295839999995 s\n",
      "\n",
      "Pre-computing Voigt profiles...\n",
      "Voigt profiles computed in 5.539781625000003 s\n",
      "Pre-computation steps complete\n",
      "Generating cross section for CO at P = 1.0 bar, T = 1000 K   [21 of 3\n",
      "Computing transitions from Li2015.h5 | 0.0% complete\n",
      "Completed 125496 transitions in 2.1929021249999963 s\n",
      "Computing transitions from E2.h5 | 50.0% complete\n",
      "Completed 6474 transitions in 0.07946133299999758 s\n",
      "Calculation complete!\n",
      "Completed 131970 transitions in 2.274293333000003 s\n",
      "\n",
      "Total runtime: 35.778980833999995 s\n"
     ]
    }
   ],
   "source": [
    "from excalibur.core import summon, compute_cross_section\n",
    "\n",
    "species = 'CO'\n",
    "database = 'ExoMol'\n",
    "\n",
    "# Download line list\n",
    "summon(database=database, species = species)\n",
    "\n",
    "P = [0.01, 0.1, 1]  # Pressure in bars\n",
    "T = [1000]  # Temperature in Kelvin\n",
    "input_directory = './input/' # Top level directory containing line lists\n",
    "\n",
    "# Calculate the cross section\n",
    "compute_cross_section(species = species, database = database, temperature = T, input_dir = input_directory, \n",
    "                      pressure = P)"
   ]
  },
  {
   "cell_type": "markdown",
   "id": "a70fc563",
   "metadata": {},
   "source": [
    "Next, we need to parse the cross section files and extract the cross section data. As usual, we first import the relevant functions from `excalibur.plot`.\n",
    "\n",
    "Then, we create an empty array called `cross_sections` that will contain all of our cross sections. We add the first cross section to this empty collection of cross sections. This is done by calling the `cross_section_collection` function with the data of the new cross section (`nu` and `sigma`) along with the `cross sections` parameter. We call this statement a second and third time to add the other temperature-pressure combinations to the collection as well. By passing in the `collection = cross_sections` parameter every time, we ensure that all of our cross sections are added to the same collection, to make the plotting easier in the next part."
   ]
  },
  {
   "cell_type": "code",
   "execution_count": null,
   "id": "8f922db7",
   "metadata": {},
   "outputs": [],
   "source": [
    "from excalibur.plot import read_cross_section_file, cross_section_collection\n",
    "\n",
    "'''Read in the 3 cross sections we just computed'''\n",
    "\n",
    "nu, sigma  = read_cross_section_file(species = species, database = database, filename = 'CO_T1000K_log_P-2.0_H2-He_sigma.txt')\n",
    "nu2, sigma2  = read_cross_section_file(species = species, database = database, filename = 'CO_T1000K_log_P-1.0_H2-He_sigma.txt')\n",
    "nu3, sigma3  = read_cross_section_file(species = species, database = database, filename = 'CO_T1000K_log_P0.0_H2-He_sigma.txt')\n",
    "\n",
    "'''Add cross sections to collection in preparation for plotting'''\n",
    "\n",
    "cross_sections = []\n",
    "\n",
    "# Add first cross section to collection\n",
    "cross_sections = cross_section_collection(new_x = nu, new_y = sigma, collection = cross_sections)\n",
    "\n",
    "# Add second cross section to collection, making sure to specify the previous collection as a parameter\n",
    "cross_sections = cross_section_collection(new_x = nu2, new_y = sigma2, collection = cross_sections)\n",
    "\n",
    "# Add third cross section to collection\n",
    "cross_sections = cross_section_collection(new_x = nu3, new_y = sigma3, collection = cross_sections)\n"
   ]
  },
  {
   "cell_type": "code",
   "execution_count": null,
   "id": "39a9d4aa",
   "metadata": {},
   "outputs": [],
   "source": [
    "from excalibur.plot import plot_cross_section\n",
    "\n",
    "'''Plot all 3 cross sections on the same plot'''\n",
    "\n",
    "plot_cross_section(collection = cross_sections, labels = ['P = 0.01 bar', 'P = 0.1 bar', 'P = 1 bar'], filename = 'CO_Cross_Section_at_Diff_Pressures')\n"
   ]
  },
  {
   "cell_type": "markdown",
   "id": "da2ce953",
   "metadata": {},
   "source": [
    "### Temperature Grid\n",
    "\n",
    "Now we do the same process, but instead of varying the pressure, we vary the temperature. Since there is only one parameter that changes (`T`), we leave the code below with no intermediary comments, so that the user can see all of Excalibur in action at once. For clarity, we will redefine parameters and reimport functions."
   ]
  },
  {
   "cell_type": "code",
   "execution_count": null,
   "id": "c99343ac",
   "metadata": {},
   "outputs": [],
   "source": [
    "from excalibur.core import summon, compute_cross_section\n",
    "from excalibur.plot import read_cross_section_file, cross_section_collection, plot_cross_section\n",
    "\n",
    "species = 'CO'\n",
    "database = 'ExoMol'\n",
    "\n",
    "'''Download line list'''\n",
    "\n",
    "summon(database=database, species = species)\n",
    "\n",
    "'''Compute cross section'''\n",
    "\n",
    "P = [1]  # Pressure in bars\n",
    "T = [1000, 2000, 3000]  # Temperature in Kelvin\n",
    "input_directory = './input/' # Top level directory containing line lists\n",
    "\n",
    "compute_cross_section(species = species, database = database, temperature = T, input_dir = input_directory, \n",
    "                      pressure = P)\n",
    "\n",
    "\n",
    "'''Read in the 3 cross sections we just computed'''\n",
    "\n",
    "nu, sigma  = read_cross_section_file(species = species, database = database, filename = 'CO_T1000.0K_log_P0.0_H2-He_sigma.txt')\n",
    "nu2, sigma2  = read_cross_section_file(species = species, database = database, filename = 'CO_T2000.0K_log_P0.0_H2-He_sigma.txt')\n",
    "nu3, sigma3  = read_cross_section_file(species = species, database = database, filename = 'CO_T3000.0K_log_P0.0_H2-He_sigma.txt')\n",
    "\n",
    "'''Add cross sections to collection in preparation for plotting'''\n",
    "\n",
    "cross_sections = []\n",
    "\n",
    "# Add first cross section to collection\n",
    "cross_sections = cross_section_collection(new_x = nu, new_y = sigma, collection = cross_sections)\n",
    "\n",
    "# Add second cross section to collection, making sure to specify the previous collection as a parameter\n",
    "cross_sections = cross_section_collection(new_x = nu2, new_y = sigma2, collection = cross_sections)\n",
    "\n",
    "# Add third cross section to collection\n",
    "cross_sections = cross_section_collection(new_x = nu3, new_y = sigma3, collection = cross_sections)\n",
    "\n",
    "'''Plot all 3 cross sections on the same plot'''\n",
    "\n",
    "plot_cross_section(collection = cross_sections, labels = ['T = 1000 K', 'T = 2000 K', 'T = 3000 K'], filename = 'CO_Cross_Section_at_Diff_Temperatures')\n"
   ]
  },
  {
   "cell_type": "markdown",
   "id": "b9bf3bf5",
   "metadata": {},
   "source": [
    "### Explanation of what we're seeing in temp. and pres. plots - Ryan to write"
   ]
  },
  {
   "cell_type": "code",
   "execution_count": null,
   "id": "11d9c6bd",
   "metadata": {},
   "outputs": [],
   "source": []
  }
 ],
 "metadata": {
  "kernelspec": {
   "display_name": "Python 3 (ipykernel)",
   "language": "python",
   "name": "python3"
  },
  "language_info": {
   "codemirror_mode": {
    "name": "ipython",
    "version": 3
   },
   "file_extension": ".py",
   "mimetype": "text/x-python",
   "name": "python",
   "nbconvert_exporter": "python",
   "pygments_lexer": "ipython3",
   "version": "3.7.6"
  },
  "vscode": {
   "interpreter": {
    "hash": "5f7defddde1abfac0269c8c847bc53f3d7179ce483b0f295025c7fc1e5b0d9d7"
   }
  }
 },
 "nbformat": 4,
 "nbformat_minor": 5
}
