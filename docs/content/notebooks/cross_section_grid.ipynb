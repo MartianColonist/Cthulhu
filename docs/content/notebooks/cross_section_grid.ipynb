{
 "cells": [
  {
   "cell_type": "markdown",
   "id": "d28a03d2",
   "metadata": {},
   "source": [
    "## Computing Cross Sections for a Grid of Pressures and Temperatures - UNFINISHED UNTIL DISCUSSING HDF5 STORAGE WITH RYAN\n",
    "\n",
    "Often, a user will want to compute a cross section at multiple pressure and temperatures, instead of just one. In this tutorial, we demonstrate how to do just that, along with plotting all the cross sections on the same graph. We assume the user has read the Quick Start [Insert Link] tutorial already. \n",
    "\n",
    "To compute the cross section for a grid, simply enter an array instead of an integer for either the pressure, temperature, or both. Everything else remains the same."
   ]
  },
  {
   "cell_type": "code",
   "execution_count": null,
   "id": "ba55d26b",
   "metadata": {},
   "outputs": [],
   "source": [
    "from excalibur.core import summon, compute_cross_section\n",
    "\n",
    "species = 'CO'\n",
    "database = 'ExoMol'\n",
    "\n",
    "# Download line list\n",
    "summon(database=database, species = species)\n",
    "\n",
    "P = [1, 2]  # Pressure in bars\n",
    "T = [1000, 2000]  # Temperature in Kelvin\n",
    "input_directory = './input/' # Top level directory containing line lists\n",
    "\n",
    "# Calculate the cross section\n",
    "compute_cross_section(species = species, database = database, temperature = T, input_dir = input_directory, \n",
    "                      pressure = P)"
   ]
  },
  {
   "cell_type": "markdown",
   "id": "a70fc563",
   "metadata": {},
   "source": [
    "When computing for a single pressure and temperature we were able to return `nu` and `sigma` and plot the cross section easily (as in the Quick Start guide). For a grid, we need to parse the cross section files and extract the data first. We use the helper function `read_cross_section_file` from `plot.py` to do this. Just assign `nu` and `sigma` as the return values of this function. Call this function for as many of the temperature-pressure combinations we want to plot. The only parameter is the name of the cross section file."
   ]
  },
  {
   "cell_type": "code",
   "execution_count": null,
   "id": "8f922db7",
   "metadata": {},
   "outputs": [],
   "source": [
    "from excalibur.plot import read_cross_section_file, cross_section_collection, plot_cross_section\n",
    "\n",
    "nu, sigma  = read_cross_section_file('CO_T1000.0K_log_P0.0_sigma.txt')\n",
    "\n"
   ]
  }
 ],
 "metadata": {
  "kernelspec": {
   "display_name": "Python 3.7.6 ('base')",
   "language": "python",
   "name": "python3"
  },
  "language_info": {
   "codemirror_mode": {
    "name": "ipython",
    "version": 3
   },
   "file_extension": ".py",
   "mimetype": "text/x-python",
   "name": "python",
   "nbconvert_exporter": "python",
   "pygments_lexer": "ipython3",
   "version": "3.7.6"
  },
  "vscode": {
   "interpreter": {
    "hash": "5f7defddde1abfac0269c8c847bc53f3d7179ce483b0f295025c7fc1e5b0d9d7"
   }
  }
 },
 "nbformat": 4,
 "nbformat_minor": 5
}
