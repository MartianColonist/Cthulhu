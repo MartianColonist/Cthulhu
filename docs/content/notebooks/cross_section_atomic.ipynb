{
 "cells": [
  {
   "cell_type": "markdown",
   "id": "d5e3f0f0",
   "metadata": {},
   "source": [
    "## Atomic and Ionic Cross Sections\n",
    "\n",
    "In this tutorial we make atomic and ionic cross sections and overplot them to see the differences. We strongly recommend reading the Quick Start [Link] guide if you have not done so yet."
   ]
  },
  {
   "cell_type": "markdown",
   "id": "207bd3c5",
   "metadata": {},
   "source": [
    "Let's create a cross section for sodium. We require the usual parameters of the `species` and `database`."
   ]
  },
  {
   "cell_type": "code",
   "execution_count": 6,
   "id": "5dc67760",
   "metadata": {},
   "outputs": [
    {
     "name": "stdout",
     "output_type": "stream",
     "text": [
      "\n",
      " ***** Processing requested data from VALD. You have chosen the following parameters: ***** \n",
      "\n",
      "Atom: Ca \n",
      "Ionization State: 1\n",
      "\n",
      "Line list ready.\n",
      "\n",
      "\n",
      " ***** Processing requested data from VALD. You have chosen the following parameters: ***** \n",
      "\n",
      "Atom: Ca \n",
      "Ionization State: 2\n",
      "\n",
      "Line list ready.\n",
      "\n"
     ]
    }
   ],
   "source": [
    "from excalibur.core import summon\n",
    "\n",
    "species = 'Ca'\n",
    "\n",
    "database = 'Vald'\n",
    "\n",
    "summon(database=database, species = species, VALD_data_dir='./VALD Line Lists/')  # Download line list\n",
    "summon(database=database, species = species, ionization_state = 2, VALD_data_dir='./VALD Line Lists/')  # Download line list"
   ]
  },
  {
   "cell_type": "code",
   "execution_count": 7,
   "id": "0abf918e",
   "metadata": {},
   "outputs": [
    {
     "name": "stdout",
     "output_type": "stream",
     "text": [
      "Beginning cross-section computations...\n",
      "Loading VALD format\n",
      "Loading partition function\n",
      "Pre-computing Voigt profiles...\n",
      "Voigt profiles computed in 2.6329416250000577 s\n",
      "Pre-computation steps complete\n",
      "Generating cross section for Ca I at P = 1 bar, T = 1000 K\n",
      "Calculation complete!\n",
      "Completed 20490 transitions in 0.3091226670001106 s\n",
      "\n",
      "Total runtime: 5.537328124999931 s\n",
      "Beginning cross-section computations...\n",
      "Loading VALD format\n",
      "Loading partition function\n",
      "Pre-computing Voigt profiles...\n",
      "Voigt profiles computed in 0.2250453330000255 s\n",
      "Pre-computation steps complete\n",
      "Generating cross section for Ca II at P = 1 bar, T = 1000 K\n",
      "Calculation complete!\n",
      "Completed 1956 transitions in 0.00342537500000617 s\n",
      "\n",
      "Total runtime: 2.659516457999871 s\n"
     ]
    }
   ],
   "source": [
    "from excalibur.core import compute_cross_section\n",
    "\n",
    "P = 1  # Pressure in bars\n",
    "T = 1000  # Temperature in Kelvin\n",
    "input_directory = './input/' # Top level directory containing line lists\n",
    "\n",
    "nu, sigma = compute_cross_section(database=database, species = species, pressure = P,\n",
    "                      temperature = T, input_dir = input_directory)\n",
    "\n",
    "nu2, sigma2 = compute_cross_section(database=database, species = species, ionization_state = 2, pressure = P,\n",
    "                      temperature = T, input_dir = input_directory)"
   ]
  },
  {
   "cell_type": "code",
   "execution_count": 9,
   "id": "8adf94bb",
   "metadata": {},
   "outputs": [],
   "source": [
    "from excalibur.plot import cross_section_collection\n",
    "\n",
    "'''Add both cross sections to collection in preparation for plotting'''\n",
    "\n",
    "cross_sections = []\n",
    "\n",
    "cross_sections = cross_section_collection(new_x = nu, new_y = sigma, collection = cross_sections)  # Add first cross section to collection\n",
    "\n",
    "cross_sections = cross_section_collection(new_x = nu2, new_y = sigma2, collection = cross_sections) # Add second cross section to collection, making sure to specify the previous collection as a parameter"
   ]
  },
  {
   "cell_type": "code",
   "execution_count": 12,
   "id": "cca405c7",
   "metadata": {},
   "outputs": [
    {
     "name": "stdout",
     "output_type": "stream",
     "text": [
      "16666.666666666668\n",
      "10000.0\n",
      "\n",
      "Plotting complete.\n"
     ]
    },
    {
     "data": {
      "image/png": "[encoded data removed]",
      "text/plain": [
       "<Figure size 432x288 with 1 Axes>"
      ]
     },
     "metadata": {
      "needs_background": "light"
     },
     "output_type": "display_data"
    }
   ],
   "source": [
    "from excalibur.plot import plot_cross_section\n",
    "\n",
    "'''Plot both cross sections on the same plot'''\n",
    "\n",
    "plot_cross_section(collection = cross_sections, labels = ['Ca I', 'Ca II'], filename = 'Different_Ionization_States_of_Ca'\n",
    "                   ,x_min = 0.6, x_max = 1.0)"
   ]
  },
  {
   "cell_type": "code",
   "execution_count": null,
   "id": "fd72eccb",
   "metadata": {},
   "outputs": [],
   "source": []
  }
 ],
 "metadata": {
  "kernelspec": {
   "display_name": "Python 3 (ipykernel)",
   "language": "python",
   "name": "python3"
  },
  "language_info": {
   "codemirror_mode": {
    "name": "ipython",
    "version": 3
   },
   "file_extension": ".py",
   "mimetype": "text/x-python",
   "name": "python",
   "nbconvert_exporter": "python",
   "pygments_lexer": "ipython3",
   "version": "3.7.6"
  }
 },
 "nbformat": 4,
 "nbformat_minor": 5
}
