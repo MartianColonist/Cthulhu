{
 "cells": [
  {
   "cell_type": "markdown",
   "id": "d5e3f0f0",
   "metadata": {},
   "source": [
    "## Atomic and Ionic Cross Sections\n",
    "\n",
    "In this tutorial, we make atomic and ionic cross sections and overplot them to see the differences. We strongly recommend reading the [Quick Start](https://excalibur-alpha.readthedocs.io/en/latest/content/notebooks/quick_start.html) guide if you have not done so yet."
   ]
  },
  {
   "cell_type": "markdown",
   "id": "fd9a4bd5",
   "metadata": {},
   "source": [
    "### VALD3 Database\n",
    "Unlike the ExoMol, HITRAN, and HITEMP databases, the atomic line lists from the VALD database require you to sign up on the VALD website. The line lists must be requested manually through the website and then processed using the scripts provided in Excalibur.\n",
    "\n",
    "#### Part 1: Downloading Line Lists\n",
    "The steps to register and download VALD line lists are very simple and detailed below. \n",
    "1. Go to the [VALD Website](http://vald.astro.uu.se/~vald/php/vald.php?docpage=contact.html).\n",
    "2. If you are a new user, click on 'Contact form' on the left sidebar, and follow the instructions to register.\n",
    "3. Once you are accepted as a user, login using your credentials.\n",
    "4. On the top, click 'Extract Element'\n",
    "5. You should be looking at a form that allows you to set various parameters for the line list. Set the following parameters for our tutorial:\n",
    "    * Starting wavelength: 400\n",
    "    * Ending wavelength: 500000\n",
    "    * Element [+ionization]: Ca\n",
    "    * Extraction format: long\n",
    "    * Retrieve data via: FTP\n",
    "    * Do not check off the circles for any optional parameters. This includes HFS splitting, the 3 damping constants, Landé factor, and term designation.\n",
    "    * Linelist configuration: Default\n",
    "    \n",
    "This will download the neutral calcium cross section from VALD. We will also need the line list for the Ca+ ion. To download that, do the same steps above, except enter 'Ca 2' for the element. In the VALD database, the first ionized state of an element starts with 2. So neutral calcium is Ca 1, Ca+ is Ca 2, etc.\n",
    "\n",
    "#### Part 2: Processing Line Lists for use with Excalibur - TODO\n"
   ]
  },
  {
   "cell_type": "markdown",
   "id": "207bd3c5",
   "metadata": {},
   "source": [
    "### Creating Ca I and Ca II Cross Sections\n",
    "Let's create a cross section for the Ca I [neutral calcium] and Ca II [Ca+] ions. We start by \"downloading\" the Ca I and Ca II line lists. This was largely done in the last section, but calling the `summon` function just ensures that all the files are in the correct directories for Excalibur to read.\n",
    "\n",
    "We require the usual parameters `species` and `database` in the `summon` function. In addition, the parameter `VALD_data_dir` must be included. This parameter specifies the local folder which contains the downloaded atomic line lists from VALD. Since our folder (called 'VALD Line Lists' is included at the same directory level as this python file, we simply set this value to './VALD Line Lists/'). Note that the final forward slash is necessary.\n",
    "\n",
    "For Ca II, we must additionaally specify the parameter `ionization_state = 2`, to indicate that we want the Ca II ion, and not the neutral state of the atom. If `ionization_state` is not specified, it defaults to 1. For clarity, we have specified it in both calls to the `summon` function below."
   ]
  },
  {
   "cell_type": "code",
   "execution_count": 1,
   "id": "5dc67760",
   "metadata": {},
   "outputs": [
    {
     "name": "stdout",
     "output_type": "stream",
     "text": [
      "\n",
      " ***** Processing requested data from VALD. You have chosen the following parameters: ***** \n",
      "\n",
      "Atom: Ca \n",
      "Ionization State: 1\n",
      "\n",
      "Line list ready.\n",
      "\n",
      "\n",
      " ***** Processing requested data from VALD. You have chosen the following parameters: ***** \n",
      "\n",
      "Atom: Ca \n",
      "Ionization State: 2\n",
      "\n",
      "Line list ready.\n",
      "\n"
     ]
    }
   ],
   "source": [
    "''' Download line list for Ca I (neutral state) and Ca II (Ca+)'''\n",
    "\n",
    "from excalibur.core import summon\n",
    "\n",
    "species = 'Ca'\n",
    "\n",
    "database = 'Vald'\n",
    "\n",
    "# Download Ca I line list\n",
    "summon(database=database, species = species, VALD_data_dir='./VALD Line Lists/', ionization_state = 1)\n",
    "\n",
    "# Download Ca II line list\n",
    "summon(database=database, species = species, VALD_data_dir='./VALD Line Lists/', ionization_state = 2)\n"
   ]
  },
  {
   "cell_type": "markdown",
   "id": "c6067106",
   "metadata": {},
   "source": [
    "Next, we compute the cross sections using both line lists, specifying the usual parameters `species`, `database`, `P`, `T`, and `input_directory`. For the Ca II cross section, we must again specify `ionization_state = 2`."
   ]
  },
  {
   "cell_type": "code",
   "execution_count": 3,
   "id": "0abf918e",
   "metadata": {},
   "outputs": [
    {
     "name": "stdout",
     "output_type": "stream",
     "text": [
      "Beginning cross-section computations...\n",
      "Loading VALD format\n",
      "Loading partition function\n",
      "Pre-computing Voigt profiles...\n",
      "Voigt profiles computed in 2.7400590829999985 s\n",
      "Pre-computation steps complete\n",
      "Generating cross section for Ca I at P = 1 bar, T = 1000 K\n",
      "Calculation complete!\n",
      "Completed 20490 transitions in 0.9255557919999973 s\n",
      "\n",
      "Total runtime: 6.254453167000001 s\n",
      "Beginning cross-section computations...\n",
      "Loading VALD format\n",
      "Loading partition function\n",
      "Pre-computing Voigt profiles...\n",
      "Voigt profiles computed in 0.2677679580000003 s\n",
      "Pre-computation steps complete\n",
      "Generating cross section for Ca II at P = 1 bar, T = 1000 K\n",
      "Calculation complete!\n",
      "Completed 1956 transitions in 0.0072170420000006175 s\n",
      "\n",
      "Total runtime: 2.6352385 s\n"
     ]
    }
   ],
   "source": [
    "''' Compute cross section for Ca I (neutral state) and Ca II (Ca+)'''\n",
    "\n",
    "from excalibur.core import compute_cross_section\n",
    "\n",
    "P = 1  # Pressure in bars\n",
    "T = 1000  # Temperature in Kelvin\n",
    "input_directory = './input/' # Top level directory containing line lists\n",
    "\n",
    "# Make Ca I cross section\n",
    "compute_cross_section(database=database, species = species, pressure = P,\n",
    "                      temperature = T, input_dir = input_directory, ionization_state = 1)\n",
    "\n",
    "# Make Ca II cross section\n",
    "compute_cross_section(database=database, species = species, pressure = P,\n",
    "                      temperature = T, input_dir = input_directory, ionization_state = 2)"
   ]
  },
  {
   "cell_type": "markdown",
   "id": "1613cdd9",
   "metadata": {},
   "source": [
    "Now we are able to plot the cross section. We need to first read the cross section files and add the cross sections to a collection. "
   ]
  },
  {
   "cell_type": "code",
   "execution_count": 3,
   "id": "8adf94bb",
   "metadata": {},
   "outputs": [],
   "source": [
    "from excalibur.plot import read_cross_section_file, cross_section_collection\n",
    "\n",
    "'''Read in the cross section we just computed'''\n",
    "\n",
    "# Read in cross section for Ca I\n",
    "nu, sigma = read_cross_section_file(species = species, database = database, ionization_state = 1,\n",
    "                                    filename = 'Ca_I_T1000K_log_P0.0_H2-He_sigma.txt')\n",
    "\n",
    "# Read in cross section for Ca II\n",
    "nu2, sigma2 = read_cross_section_file(species = species, database = database, ionization_state = 2,\n",
    "                                      filename = 'Ca_II_T1000K_log_P0.0_H2-He_sigma.txt')\n",
    "\n",
    "'''Add both cross sections to collection in preparation for plotting'''\n",
    "\n",
    "cross_sections = []\n",
    "\n",
    "# Add first cross section to collection\n",
    "cross_sections = cross_section_collection(new_x = nu, new_y = sigma, collection = cross_sections)\n",
    "\n",
    "# Add second cross section to collection, making sure to specify the previous collection as a parameter\n",
    "cross_sections = cross_section_collection(new_x = nu2, new_y = sigma2, collection = cross_sections)\n"
   ]
  },
  {
   "cell_type": "markdown",
   "id": "96757dc4",
   "metadata": {},
   "source": [
    "And finally we plot the results. In addition to the usual required parameters `collection`, `labels`, and `filename`, we have added the parameters `x_min`, `x_max`, and `y_min` to view a zoomed in section of our plot. Note that `x_min` and `x_max` are in $\\mu m$ while `y_min` is in $cm^{2}$."
   ]
  },
  {
   "cell_type": "code",
   "execution_count": 4,
   "id": "cca405c7",
   "metadata": {},
   "outputs": [
    {
     "name": "stdout",
     "output_type": "stream",
     "text": [
      "\n",
      "Plotting complete.\n"
     ]
    },
    {
     "data": {
      "image/png": "[encoded data removed]",
      "text/plain": [
       "<Figure size 432x288 with 1 Axes>"
      ]
     },
     "metadata": {
      "needs_background": "light"
     },
     "output_type": "display_data"
    }
   ],
   "source": [
    "'''Plot both cross sections on the same plot'''\n",
    "\n",
    "from excalibur.plot import plot_cross_section\n",
    "\n",
    "plot_cross_section(collection = cross_sections, labels = ['Ca I', 'Ca II'], filename = 'Different_Ionization_States_of_Ca'\n",
    "                   ,x_min = 0.6, x_max = 1.0, y_min = 1e-40)"
   ]
  },
  {
   "cell_type": "code",
   "execution_count": null,
   "id": "fd72eccb",
   "metadata": {},
   "outputs": [],
   "source": []
  }
 ],
 "metadata": {
  "kernelspec": {
   "display_name": "Python 3 (ipykernel)",
   "language": "python",
   "name": "python3"
  },
  "language_info": {
   "codemirror_mode": {
    "name": "ipython",
    "version": 3
   },
   "file_extension": ".py",
   "mimetype": "text/x-python",
   "name": "python",
   "nbconvert_exporter": "python",
   "pygments_lexer": "ipython3",
   "version": "3.7.6"
  }
 },
 "nbformat": 4,
 "nbformat_minor": 5
}
