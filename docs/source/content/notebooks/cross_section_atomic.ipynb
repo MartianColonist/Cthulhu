{
 "cells": [
  {
   "cell_type": "markdown",
   "id": "d5e3f0f0",
   "metadata": {},
   "source": [
    "## Atomic and Ionic Cross Sections -- UNFINISHED UNTIL DISCUSSION ON HOW TO DOWNLOAD VALD LINELISTS"
   ]
  }
 ],
 "metadata": {
  "kernelspec": {
   "display_name": "Python 3 (ipykernel)",
   "language": "python",
   "name": "python3"
  },
  "language_info": {
   "codemirror_mode": {
    "name": "ipython",
    "version": 3
   },
   "file_extension": ".py",
   "mimetype": "text/x-python",
   "name": "python",
   "nbconvert_exporter": "python",
   "pygments_lexer": "ipython3",
   "version": "3.7.6"
  }
 },
 "nbformat": 4,
 "nbformat_minor": 5
}
