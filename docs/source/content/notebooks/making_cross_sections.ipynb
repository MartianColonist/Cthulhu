{
 "cells": [
  {
   "cell_type": "markdown",
   "id": "e866dba3",
   "metadata": {},
   "source": [
    "## Computing Cross Sections with a Grid of Pressures and Temperatures\n",
    "\n",
    "Often, a user will want to compute a cross section at multiple pressure and temperatures, instead of just one. In this tutorial, we demonstrate how to do just that, along with plotting all the cross sections on the same graph. We assume the user has read the Quick Start [Insert Link] tutorial already. \n",
    "\n",
    "To compute the cross section for a grid, simply enter an array instead of an integer for either the pressure, temperature, or both. Everything else remains the same."
   ]
  },
  {
   "cell_type": "code",
   "execution_count": null,
   "id": "7cf4507a",
   "metadata": {},
   "outputs": [],
   "source": [
    "from excalibur.core import summon, compute_cross_section\n",
    "\n",
    "species = 'CO'\n",
    "database = 'ExoMol'\n",
    "\n",
    "# Download line list\n",
    "summon(database=database, species = species)\n",
    "\n",
    "P = [1, 2]  # Pressure in bars\n",
    "T = [1000, 2000]  # Temperature in Kelvin\n",
    "input_directory = './input/' # Top level directory containing line lists\n",
    "\n",
    "# Calculate the cross section\n",
    "compute_cross_section(species = species, database = database, temperature = T, input_dir = input_directory, \n",
    "                      pressure = P)"
   ]
  },
  {
   "cell_type": "markdown",
   "id": "0e409f52",
   "metadata": {},
   "source": [
    "When computing a single pressure and temperature we were able to return `nu` and `sigma` and plot the cross section easily (as in the Quick Start guide). For a grid, we need to parse the cross section files and extract the data first. We use the helper function `read_cross_section_file` from `plot.py` to do this. Just assign `nu` and `sigma` as the return values of this function. Call this function for as many of the temperature-pressure combinations we want to plot."
   ]
  }
 ],
 "metadata": {
  "kernelspec": {
   "display_name": "Python 3 (ipykernel)",
   "language": "python",
   "name": "python3"
  },
  "language_info": {
   "codemirror_mode": {
    "name": "ipython",
    "version": 3
   },
   "file_extension": ".py",
   "mimetype": "text/x-python",
   "name": "python",
   "nbconvert_exporter": "python",
   "pygments_lexer": "ipython3",
   "version": "3.7.6"
  }
 },
 "nbformat": 4,
 "nbformat_minor": 5
}
