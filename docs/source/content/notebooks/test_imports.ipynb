{
 "cells": [
  {
   "cell_type": "code",
   "execution_count": 8,
   "id": "e13189cd",
   "metadata": {},
   "outputs": [
    {
     "name": "stdout",
     "output_type": "stream",
     "text": [
      "/Users/arnav/Desktop/Exoplanet Research/excalibur-alpha/excalibur/core.py\n",
      "['/Users/arnav/Desktop/excalibur-alpha/docs/source/content/notebooks', '/Users/arnav/opt/anaconda3/lib/python37.zip', '/Users/arnav/opt/anaconda3/lib/python3.7', '/Users/arnav/opt/anaconda3/lib/python3.7/lib-dynload', '', '/Users/arnav/.local/lib/python3.7/site-packages', '/Users/arnav/opt/anaconda3/lib/python3.7/site-packages', '/Users/arnav/opt/anaconda3/lib/python3.7/site-packages/aeosa', '/Users/arnav/Desktop/Exoplanet Research/excalibur-alpha', '/Users/arnav/opt/anaconda3/lib/python3.7/site-packages/excalibur_alpha-0.1.0-py3.7.egg', '/Users/arnav/opt/anaconda3/lib/python3.7/site-packages/IPython/extensions', '/Users/arnav/.ipython']\n"
     ]
    },
    {
     "data": {
      "text/plain": [
       "\"\\nspecies = 'CO'\\ndatabase = 'ExoMol'\\n\\n# Download line list\\nsummon(database=database, species = species)\\n\\nP = 1  # Pressure in bars\\nT = 1000  # Temperature in Kelvin\\ninput_directory = './input' # Top level directory containing line lists\\n\\ncompute_cross_section(species = species, database = database, temperature = T, input_dir = input_directory, \\n                      pressure = P)\\n\""
      ]
     },
     "execution_count": 8,
     "metadata": {},
     "output_type": "execute_result"
    }
   ],
   "source": [
    "#from excalibur.core import summon, compute_cross_section\n",
    "\n",
    "import excalibur.core as core\n",
    "\n",
    "'''\n",
    "species = 'CO'\n",
    "database = 'ExoMol'\n",
    "\n",
    "# Download line list\n",
    "summon(database=database, species = species)\n",
    "\n",
    "P = 1  # Pressure in bars\n",
    "T = 1000  # Temperature in Kelvin\n",
    "input_directory = './input' # Top level directory containing line lists\n",
    "\n",
    "compute_cross_section(species = species, database = database, temperature = T, input_dir = input_directory, \n",
    "                      pressure = P)\n",
    "'''"
   ]
  },
  {
   "cell_type": "code",
   "execution_count": null,
   "id": "065903bb",
   "metadata": {},
   "outputs": [],
   "source": []
  }
 ],
 "metadata": {
  "kernelspec": {
   "display_name": "Python 3 (ipykernel)",
   "language": "python",
   "name": "python3"
  },
  "language_info": {
   "codemirror_mode": {
    "name": "ipython",
    "version": 3
   },
   "file_extension": ".py",
   "mimetype": "text/x-python",
   "name": "python",
   "nbconvert_exporter": "python",
   "pygments_lexer": "ipython3",
   "version": "3.7.6"
  }
 },
 "nbformat": 4,
 "nbformat_minor": 5
}
